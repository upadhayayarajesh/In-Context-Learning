{
 "cells": [
  {
   "cell_type": "code",
   "execution_count": 3,
   "id": "997e3d78-7fe5-4967-bfa9-d832a019daed",
   "metadata": {},
   "outputs": [],
   "source": [
    "from data_utils import load_glue_datasets, load_hans_dataset, load_mnli_mismatched_dataset,load_paws_qqp_dataset,load_cola_ood_dataset,task_to_keys"
   ]
  },
  {
   "cell_type": "code",
   "execution_count": 5,
   "id": "11bd7423-f9d1-44a4-9425-240e7ac8f4a7",
   "metadata": {},
   "outputs": [
    {
     "data": {
      "text/plain": [
       "('premise', 'hypothesis')"
      ]
     },
     "execution_count": 5,
     "metadata": {},
     "output_type": "execute_result"
    }
   ],
   "source": [
    "task_to_keys['mnli']\n",
    "\n",
    "Premise: {}\n",
    "Hypothesis: {}\n",
    "Label: {}"
   ]
  },
  {
   "cell_type": "code",
   "execution_count": 2,
   "id": "310e53e2-c9b8-49f8-874a-6d6d7bd47729",
   "metadata": {},
   "outputs": [
    {
     "data": {
      "text/plain": [
       "(DatasetDict({\n",
       "     train: Dataset({\n",
       "         features: ['premise', 'hypothesis', 'label', 'idx'],\n",
       "         num_rows: 261802\n",
       "     })\n",
       "     validation_matched: Dataset({\n",
       "         features: ['premise', 'hypothesis', 'label', 'idx'],\n",
       "         num_rows: 6692\n",
       "     })\n",
       "     validation_mismatched: Dataset({\n",
       "         features: ['premise', 'hypothesis', 'label', 'idx'],\n",
       "         num_rows: 6703\n",
       "     })\n",
       "     test_matched: Dataset({\n",
       "         features: ['premise', 'hypothesis', 'label', 'idx'],\n",
       "         num_rows: 9796\n",
       "     })\n",
       "     test_mismatched: Dataset({\n",
       "         features: ['premise', 'hypothesis', 'label', 'idx'],\n",
       "         num_rows: 9847\n",
       "     })\n",
       " }),\n",
       " ['entailment', 'contradiction'],\n",
       " 2)"
      ]
     },
     "execution_count": 2,
     "metadata": {},
     "output_type": "execute_result"
    }
   ],
   "source": [
    "datasets = load_glue_datasets('mnli')\n",
    "datasets"
   ]
  },
  {
   "cell_type": "code",
   "execution_count": 7,
   "id": "3c5faf30-17c2-47de-8c14-1bcfbaf19352",
   "metadata": {},
   "outputs": [
    {
     "data": {
      "text/plain": [
       "Dataset({\n",
       "    features: ['premise', 'hypothesis', 'label', 'idx'],\n",
       "    num_rows: 261802\n",
       "})"
      ]
     },
     "execution_count": 7,
     "metadata": {},
     "output_type": "execute_result"
    }
   ],
   "source": [
    "datasets[0]['train']"
   ]
  },
  {
   "cell_type": "code",
   "execution_count": 5,
   "id": "04c553d7-dbae-405d-9bac-9528bce4cf80",
   "metadata": {},
   "outputs": [
    {
     "data": {
      "text/plain": [
       "(DatasetDict({\n",
       "     train: Dataset({\n",
       "         features: ['sentence1', 'sentence2', 'label', 'idx'],\n",
       "         num_rows: 2490\n",
       "     })\n",
       "     validation: Dataset({\n",
       "         features: ['sentence1', 'sentence2', 'label', 'idx'],\n",
       "         num_rows: 277\n",
       "     })\n",
       "     test: Dataset({\n",
       "         features: ['sentence1', 'sentence2', 'label', 'idx'],\n",
       "         num_rows: 3000\n",
       "     })\n",
       " }),\n",
       " ['entailment', 'not_entailment'],\n",
       " 2)"
      ]
     },
     "execution_count": 5,
     "metadata": {},
     "output_type": "execute_result"
    }
   ],
   "source": [
    "datasets = load_glue_datasets('rte')\n",
    "datasets"
   ]
  },
  {
   "cell_type": "code",
   "execution_count": 7,
   "id": "17ac720b-588e-4b08-972b-8a443e6b2104",
   "metadata": {},
   "outputs": [
    {
     "name": "stderr",
     "output_type": "stream",
     "text": [
      "Downloading data: 100%|█████████████████████████████████████████████████████████████████████████████| 33.6M/33.6M [00:00<00:00, 42.8MB/s]\n",
      "Downloading data: 100%|█████████████████████████████████████████████████████████████████████████████| 3.73M/3.73M [00:00<00:00, 27.0MB/s]\n",
      "Downloading data: 100%|█████████████████████████████████████████████████████████████████████████████| 36.7M/36.7M [00:00<00:00, 76.4MB/s]\n"
     ]
    },
    {
     "data": {
      "application/vnd.jupyter.widget-view+json": {
       "model_id": "119455aba52c43999f5da4c3a8d346a2",
       "version_major": 2,
       "version_minor": 0
      },
      "text/plain": [
       "Generating train split:   0%|          | 0/363846 [00:00<?, ? examples/s]"
      ]
     },
     "metadata": {},
     "output_type": "display_data"
    },
    {
     "data": {
      "application/vnd.jupyter.widget-view+json": {
       "model_id": "2ee5889059fb4fe3929cabecfc198484",
       "version_major": 2,
       "version_minor": 0
      },
      "text/plain": [
       "Generating validation split:   0%|          | 0/40430 [00:00<?, ? examples/s]"
      ]
     },
     "metadata": {},
     "output_type": "display_data"
    },
    {
     "data": {
      "application/vnd.jupyter.widget-view+json": {
       "model_id": "9bea99a7a09245098cbbb2d2c4c3e799",
       "version_major": 2,
       "version_minor": 0
      },
      "text/plain": [
       "Generating test split:   0%|          | 0/390965 [00:00<?, ? examples/s]"
      ]
     },
     "metadata": {},
     "output_type": "display_data"
    },
    {
     "data": {
      "text/plain": [
       "(DatasetDict({\n",
       "     train: Dataset({\n",
       "         features: ['question1', 'question2', 'label', 'idx'],\n",
       "         num_rows: 1000\n",
       "     })\n",
       "     validation: Dataset({\n",
       "         features: ['question1', 'question2', 'label', 'idx'],\n",
       "         num_rows: 1000\n",
       "     })\n",
       "     test: Dataset({\n",
       "         features: ['question1', 'question2', 'label', 'idx'],\n",
       "         num_rows: 1000\n",
       "     })\n",
       " }),\n",
       " ['not_duplicate', 'duplicate'],\n",
       " 2)"
      ]
     },
     "execution_count": 7,
     "metadata": {},
     "output_type": "execute_result"
    }
   ],
   "source": [
    "datasets = load_glue_datasets('qqp')\n",
    "datasets"
   ]
  },
  {
   "cell_type": "code",
   "execution_count": 8,
   "id": "9be815eb-0544-44c2-9784-f8c49ab1a27a",
   "metadata": {},
   "outputs": [
    {
     "name": "stderr",
     "output_type": "stream",
     "text": [
      "Downloading data: 100%|███████████████████████████████████████████████████████████████████████████████| 251k/251k [00:00<00:00, 1.15MB/s]\n",
      "Downloading data: 100%|██████████████████████████████████████████████████████████████████████████████| 37.6k/37.6k [00:00<00:00, 142kB/s]\n",
      "Downloading data: 100%|██████████████████████████████████████████████████████████████████████████████| 37.7k/37.7k [00:00<00:00, 221kB/s]\n"
     ]
    },
    {
     "data": {
      "application/vnd.jupyter.widget-view+json": {
       "model_id": "b2e4297a0eaf44b593432ad697fb53d4",
       "version_major": 2,
       "version_minor": 0
      },
      "text/plain": [
       "Generating train split:   0%|          | 0/8551 [00:00<?, ? examples/s]"
      ]
     },
     "metadata": {},
     "output_type": "display_data"
    },
    {
     "data": {
      "application/vnd.jupyter.widget-view+json": {
       "model_id": "fe4463c3577840f2bb2f8fdab4a96299",
       "version_major": 2,
       "version_minor": 0
      },
      "text/plain": [
       "Generating validation split:   0%|          | 0/1043 [00:00<?, ? examples/s]"
      ]
     },
     "metadata": {},
     "output_type": "display_data"
    },
    {
     "data": {
      "application/vnd.jupyter.widget-view+json": {
       "model_id": "d15dcd8f172a4ab980526f70921bb7e1",
       "version_major": 2,
       "version_minor": 0
      },
      "text/plain": [
       "Generating test split:   0%|          | 0/1063 [00:00<?, ? examples/s]"
      ]
     },
     "metadata": {},
     "output_type": "display_data"
    },
    {
     "data": {
      "text/plain": [
       "(DatasetDict({\n",
       "     train: Dataset({\n",
       "         features: ['sentence', 'label', 'idx'],\n",
       "         num_rows: 8551\n",
       "     })\n",
       "     validation: Dataset({\n",
       "         features: ['sentence', 'label', 'idx'],\n",
       "         num_rows: 1043\n",
       "     })\n",
       "     test: Dataset({\n",
       "         features: ['sentence', 'label', 'idx'],\n",
       "         num_rows: 1063\n",
       "     })\n",
       " }),\n",
       " ['unacceptable', 'acceptable'],\n",
       " 2)"
      ]
     },
     "execution_count": 8,
     "metadata": {},
     "output_type": "execute_result"
    }
   ],
   "source": [
    "datasets = load_glue_datasets('cola')\n",
    "datasets"
   ]
  },
  {
   "cell_type": "code",
   "execution_count": 11,
   "id": "f90cb7f1-6f91-44e1-9d58-bff04ca4ec73",
   "metadata": {},
   "outputs": [
    {
     "name": "stderr",
     "output_type": "stream",
     "text": [
      "Downloading data: 100%|█████████████████████████████████████████████████████████████████████████████| 3.14M/3.14M [00:00<00:00, 6.79MB/s]\n",
      "Downloading data: 100%|█████████████████████████████████████████████████████████████████████████████| 3.14M/3.14M [00:00<00:00, 9.57MB/s]\n"
     ]
    },
    {
     "data": {
      "application/vnd.jupyter.widget-view+json": {
       "model_id": "7a6228e5da554af3a3f9f2bb2a4cfbeb",
       "version_major": 2,
       "version_minor": 0
      },
      "text/plain": [
       "Generating train split:   0%|          | 0/30000 [00:00<?, ? examples/s]"
      ]
     },
     "metadata": {},
     "output_type": "display_data"
    },
    {
     "data": {
      "application/vnd.jupyter.widget-view+json": {
       "model_id": "dd731223134040d991bcde311c207389",
       "version_major": 2,
       "version_minor": 0
      },
      "text/plain": [
       "Generating validation split:   0%|          | 0/30000 [00:00<?, ? examples/s]"
      ]
     },
     "metadata": {},
     "output_type": "display_data"
    },
    {
     "data": {
      "text/plain": [
       "(Dataset({\n",
       "     features: ['premise', 'hypothesis', 'label', 'parse_premise', 'parse_hypothesis', 'binary_parse_premise', 'binary_parse_hypothesis', 'heuristic', 'subcase', 'template', 'idx'],\n",
       "     num_rows: 30000\n",
       " }),\n",
       " 'hans')"
      ]
     },
     "execution_count": 11,
     "metadata": {},
     "output_type": "execute_result"
    }
   ],
   "source": [
    "load_hans_dataset()"
   ]
  },
  {
   "cell_type": "code",
   "execution_count": 12,
   "id": "fcdc0920-79b9-40d8-a89e-836468b6cae5",
   "metadata": {},
   "outputs": [
    {
     "data": {
      "application/vnd.jupyter.widget-view+json": {
       "model_id": "78df876430984ff29a21317773169caf",
       "version_major": 2,
       "version_minor": 0
      },
      "text/plain": [
       "Filter:   0%|          | 0/9832 [00:00<?, ? examples/s]"
      ]
     },
     "metadata": {},
     "output_type": "display_data"
    },
    {
     "data": {
      "application/vnd.jupyter.widget-view+json": {
       "model_id": "5512f5b340f44165bc8d4be334a41798",
       "version_major": 2,
       "version_minor": 0
      },
      "text/plain": [
       "Map:   0%|          | 0/6703 [00:00<?, ? examples/s]"
      ]
     },
     "metadata": {},
     "output_type": "display_data"
    },
    {
     "data": {
      "application/vnd.jupyter.widget-view+json": {
       "model_id": "36e2b97588c6488fa6979d199799cd35",
       "version_major": 2,
       "version_minor": 0
      },
      "text/plain": [
       "Casting the dataset:   0%|          | 0/6703 [00:00<?, ? examples/s]"
      ]
     },
     "metadata": {},
     "output_type": "display_data"
    },
    {
     "data": {
      "text/plain": [
       "(Dataset({\n",
       "     features: ['premise', 'hypothesis', 'label', 'idx'],\n",
       "     num_rows: 6703\n",
       " }),\n",
       " 'mnli_mm')"
      ]
     },
     "execution_count": 12,
     "metadata": {},
     "output_type": "execute_result"
    }
   ],
   "source": [
    "load_mnli_mismatched_dataset()"
   ]
  },
  {
   "cell_type": "code",
   "execution_count": 24,
   "id": "baad4d79-a893-4107-abc6-2fdacc472b91",
   "metadata": {},
   "outputs": [],
   "source": [
    "import os\n",
    "data_path = os.path.join(os.getcwd(),'data')"
   ]
  },
  {
   "cell_type": "code",
   "execution_count": 26,
   "id": "563cb1cd-900b-4070-a8a1-2bf5d0ad2fec",
   "metadata": {},
   "outputs": [
    {
     "data": {
      "application/vnd.jupyter.widget-view+json": {
       "model_id": "39b522569cd94a6d88b3ea7f92c7371e",
       "version_major": 2,
       "version_minor": 0
      },
      "text/plain": [
       "Generating validation split: 0 examples [00:00, ? examples/s]"
      ]
     },
     "metadata": {},
     "output_type": "display_data"
    },
    {
     "data": {
      "application/vnd.jupyter.widget-view+json": {
       "model_id": "52fd6fc58fcf40ddb7f4879ba9a00321",
       "version_major": 2,
       "version_minor": 0
      },
      "text/plain": [
       "Map:   0%|          | 0/677 [00:00<?, ? examples/s]"
      ]
     },
     "metadata": {},
     "output_type": "display_data"
    },
    {
     "data": {
      "text/plain": [
       "(Dataset({\n",
       "     features: ['idx', 'sentence1', 'sentence2', 'label'],\n",
       "     num_rows: 677\n",
       " }),\n",
       " 'paws-qqp')"
      ]
     },
     "execution_count": 26,
     "metadata": {},
     "output_type": "execute_result"
    }
   ],
   "source": [
    "load_paws_qqp_dataset(path=os.path.join(data_path,'paws_qqp','dev_and_test.tsv'))"
   ]
  },
  {
   "cell_type": "code",
   "execution_count": 28,
   "id": "fb20fdbf-ddc6-47a0-8904-afc0740a40ec",
   "metadata": {},
   "outputs": [
    {
     "data": {
      "application/vnd.jupyter.widget-view+json": {
       "model_id": "866303aa29994bdd95e147c829ec2d90",
       "version_major": 2,
       "version_minor": 0
      },
      "text/plain": [
       "Generating validation split: 0 examples [00:00, ? examples/s]"
      ]
     },
     "metadata": {},
     "output_type": "display_data"
    },
    {
     "data": {
      "text/plain": [
       "(Dataset({\n",
       "     features: ['code', 'label', 'annotation', 'sentence', 'idx'],\n",
       "     num_rows: 516\n",
       " }),\n",
       " 'cola-ood')"
      ]
     },
     "execution_count": 28,
     "metadata": {},
     "output_type": "execute_result"
    }
   ],
   "source": [
    "load_cola_ood_dataset(path=os.path.join(data_path,'cola_ood','dev.tsv'))"
   ]
  },
  {
   "cell_type": "code",
   "execution_count": null,
   "id": "02139218-3287-40b2-9a02-60e725d2cfbf",
   "metadata": {},
   "outputs": [],
   "source": []
  }
 ],
 "metadata": {
  "kernelspec": {
   "display_name": "Python 3 (ipykernel)",
   "language": "python",
   "name": "python3"
  },
  "language_info": {
   "codemirror_mode": {
    "name": "ipython",
    "version": 3
   },
   "file_extension": ".py",
   "mimetype": "text/x-python",
   "name": "python",
   "nbconvert_exporter": "python",
   "pygments_lexer": "ipython3",
   "version": "3.12.1"
  }
 },
 "nbformat": 4,
 "nbformat_minor": 5
}
