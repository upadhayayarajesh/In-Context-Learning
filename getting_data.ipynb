{
 "cells": [
  {
   "cell_type": "code",
   "execution_count": 1,
   "id": "997e3d78-7fe5-4967-bfa9-d832a019daed",
   "metadata": {},
   "outputs": [],
   "source": [
    "from data_utils import load_glue_datasets, load_hans_dataset, load_mnli_mismatched_dataset,load_paws_qqp_dataset,load_cola_ood_dataset,task_to_keys"
   ]
  },
  {
   "cell_type": "code",
   "execution_count": 2,
   "id": "11bd7423-f9d1-44a4-9425-240e7ac8f4a7",
   "metadata": {},
   "outputs": [],
   "source": [
    "task_to_keys['mnli']\n",
    "\n",
    "Premise: {}\n",
    "Hypothesis: {}\n",
    "Label: {}"
   ]
  },
  {
   "cell_type": "code",
   "execution_count": 3,
   "id": "310e53e2-c9b8-49f8-874a-6d6d7bd47729",
   "metadata": {},
   "outputs": [
    {
     "data": {
      "text/plain": [
       "(DatasetDict({\n",
       "     train: Dataset({\n",
       "         features: ['premise', 'hypothesis', 'label', 'idx'],\n",
       "         num_rows: 261802\n",
       "     })\n",
       "     validation_matched: Dataset({\n",
       "         features: ['premise', 'hypothesis', 'label', 'idx'],\n",
       "         num_rows: 6692\n",
       "     })\n",
       "     validation_mismatched: Dataset({\n",
       "         features: ['premise', 'hypothesis', 'label', 'idx'],\n",
       "         num_rows: 6703\n",
       "     })\n",
       "     test_matched: Dataset({\n",
       "         features: ['premise', 'hypothesis', 'label', 'idx'],\n",
       "         num_rows: 9796\n",
       "     })\n",
       "     test_mismatched: Dataset({\n",
       "         features: ['premise', 'hypothesis', 'label', 'idx'],\n",
       "         num_rows: 9847\n",
       "     })\n",
       " }),\n",
       " ['entailment', 'contradiction'],\n",
       " 2)"
      ]
     },
     "execution_count": 3,
     "metadata": {},
     "output_type": "execute_result"
    }
   ],
   "source": [
    "datasets = load_glue_datasets('mnli')\n",
    "datasets"
   ]
  },
  {
   "cell_type": "code",
   "execution_count": 4,
   "id": "3c5faf30-17c2-47de-8c14-1bcfbaf19352",
   "metadata": {},
   "outputs": [
    {
     "data": {
      "text/plain": [
       "Dataset({\n",
       "    features: ['premise', 'hypothesis', 'label', 'idx'],\n",
       "    num_rows: 261802\n",
       "})"
      ]
     },
     "execution_count": 4,
     "metadata": {},
     "output_type": "execute_result"
    }
   ],
   "source": [
    "datasets[0]['train']"
   ]
  },
  {
   "cell_type": "code",
   "execution_count": 5,
   "id": "04c553d7-dbae-405d-9bac-9528bce4cf80",
   "metadata": {},
   "outputs": [
    {
     "data": {
      "text/plain": [
       "(DatasetDict({\n",
       "     train: Dataset({\n",
       "         features: ['sentence1', 'sentence2', 'label', 'idx'],\n",
       "         num_rows: 2490\n",
       "     })\n",
       "     validation: Dataset({\n",
       "         features: ['sentence1', 'sentence2', 'label', 'idx'],\n",
       "         num_rows: 277\n",
       "     })\n",
       "     test: Dataset({\n",
       "         features: ['sentence1', 'sentence2', 'label', 'idx'],\n",
       "         num_rows: 3000\n",
       "     })\n",
       " }),\n",
       " ['entailment', 'not_entailment'],\n",
       " 2)"
      ]
     },
     "execution_count": 5,
     "metadata": {},
     "output_type": "execute_result"
    }
   ],
   "source": [
    "datasets = load_glue_datasets('rte')\n",
    "datasets"
   ]
  },
  {
   "cell_type": "code",
   "execution_count": 6,
   "id": "17ac720b-588e-4b08-972b-8a443e6b2104",
   "metadata": {},
   "outputs": [
    {
     "data": {
      "text/plain": [
       "(DatasetDict({\n",
       "     train: Dataset({\n",
       "         features: ['question1', 'question2', 'label', 'idx'],\n",
       "         num_rows: 1000\n",
       "     })\n",
       "     validation: Dataset({\n",
       "         features: ['question1', 'question2', 'label', 'idx'],\n",
       "         num_rows: 1000\n",
       "     })\n",
       "     test: Dataset({\n",
       "         features: ['question1', 'question2', 'label', 'idx'],\n",
       "         num_rows: 1000\n",
       "     })\n",
       " }),\n",
       " ['not_duplicate', 'duplicate'],\n",
       " 2)"
      ]
     },
     "execution_count": 6,
     "metadata": {},
     "output_type": "execute_result"
    }
   ],
   "source": [
    "datasets = load_glue_datasets('qqp')\n",
    "datasets"
   ]
  },
  {
   "cell_type": "code",
   "execution_count": 8,
   "id": "f90cb7f1-6f91-44e1-9d58-bff04ca4ec73",
   "metadata": {},
   "outputs": [
    {
     "data": {
      "text/plain": [
       "(Dataset({\n",
       "     features: ['premise', 'hypothesis', 'label', 'parse_premise', 'parse_hypothesis', 'binary_parse_premise', 'binary_parse_hypothesis', 'heuristic', 'subcase', 'template', 'idx'],\n",
       "     num_rows: 30000\n",
       " }),\n",
       " 'hans')"
      ]
     },
     "execution_count": 8,
     "metadata": {},
     "output_type": "execute_result"
    }
   ],
   "source": [
    "load_hans_dataset()"
   ]
  },
  {
   "cell_type": "code",
   "execution_count": 9,
   "id": "fcdc0920-79b9-40d8-a89e-836468b6cae5",
   "metadata": {},
   "outputs": [
    {
     "data": {
      "text/plain": [
       "(Dataset({\n",
       "     features: ['premise', 'hypothesis', 'label', 'idx'],\n",
       "     num_rows: 6703\n",
       " }),\n",
       " 'mnli_mm')"
      ]
     },
     "execution_count": 9,
     "metadata": {},
     "output_type": "execute_result"
    }
   ],
   "source": [
    "load_mnli_mismatched_dataset()"
   ]
  },
  {
   "cell_type": "code",
   "execution_count": 12,
   "id": "563cb1cd-900b-4070-a8a1-2bf5d0ad2fec",
   "metadata": {},
   "outputs": [
    {
     "data": {
      "text/plain": [
       "Dataset({\n",
       "    features: ['idx', 'sentence1', 'sentence2', 'label'],\n",
       "    num_rows: 677\n",
       "})"
      ]
     },
     "execution_count": 12,
     "metadata": {},
     "output_type": "execute_result"
    }
   ],
   "source": [
    "import os\n",
    "data_path = os.path.join(os.getcwd(),'data')\n",
    "dataset, subset = load_paws_qqp_dataset(path=os.path.join(data_path,'paws_qqp','dev_and_test.tsv'))\n",
    "dataset"
   ]
  }
 ],
 "metadata": {
  "kernelspec": {
   "display_name": "Python 3 (ipykernel)",
   "language": "python",
   "name": "python3"
  },
  "language_info": {
   "codemirror_mode": {
    "name": "ipython",
    "version": 3
   },
   "file_extension": ".py",
   "mimetype": "text/x-python",
   "name": "python",
   "nbconvert_exporter": "python",
   "pygments_lexer": "ipython3",
   "version": "3.12.1"
  }
 },
 "nbformat": 4,
 "nbformat_minor": 5
}
