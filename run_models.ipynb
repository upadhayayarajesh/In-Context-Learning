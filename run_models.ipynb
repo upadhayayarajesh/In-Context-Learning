{
 "cells": [
  {
   "cell_type": "code",
   "execution_count": 1,
   "id": "d2522581-45b7-49f3-9312-0259fd150dd0",
   "metadata": {},
   "outputs": [
    {
     "name": "stdout",
     "output_type": "stream",
     "text": [
      "Requirement already satisfied: datasets in /Users/zachsmith/.pyenv/versions/3.12.2/lib/python3.12/site-packages (2.18.0)\n",
      "Requirement already satisfied: filelock in /Users/zachsmith/.pyenv/versions/3.12.2/lib/python3.12/site-packages (from datasets) (3.13.3)\n",
      "Requirement already satisfied: numpy>=1.17 in /Users/zachsmith/.pyenv/versions/3.12.2/lib/python3.12/site-packages (from datasets) (1.26.4)\n",
      "Requirement already satisfied: pyarrow>=12.0.0 in /Users/zachsmith/.pyenv/versions/3.12.2/lib/python3.12/site-packages (from datasets) (15.0.2)\n",
      "Requirement already satisfied: pyarrow-hotfix in /Users/zachsmith/.pyenv/versions/3.12.2/lib/python3.12/site-packages (from datasets) (0.6)\n",
      "Requirement already satisfied: dill<0.3.9,>=0.3.0 in /Users/zachsmith/.pyenv/versions/3.12.2/lib/python3.12/site-packages (from datasets) (0.3.8)\n",
      "Requirement already satisfied: pandas in /Users/zachsmith/.pyenv/versions/3.12.2/lib/python3.12/site-packages (from datasets) (2.2.2)\n",
      "Requirement already satisfied: requests>=2.19.0 in /Users/zachsmith/.pyenv/versions/3.12.2/lib/python3.12/site-packages (from datasets) (2.31.0)\n",
      "Requirement already satisfied: tqdm>=4.62.1 in /Users/zachsmith/.pyenv/versions/3.12.2/lib/python3.12/site-packages (from datasets) (4.66.2)\n",
      "Requirement already satisfied: xxhash in /Users/zachsmith/.pyenv/versions/3.12.2/lib/python3.12/site-packages (from datasets) (3.4.1)\n",
      "Requirement already satisfied: multiprocess in /Users/zachsmith/.pyenv/versions/3.12.2/lib/python3.12/site-packages (from datasets) (0.70.16)\n",
      "Requirement already satisfied: fsspec<=2024.2.0,>=2023.1.0 in /Users/zachsmith/.pyenv/versions/3.12.2/lib/python3.12/site-packages (from fsspec[http]<=2024.2.0,>=2023.1.0->datasets) (2024.2.0)\n",
      "Requirement already satisfied: aiohttp in /Users/zachsmith/.pyenv/versions/3.12.2/lib/python3.12/site-packages (from datasets) (3.9.5)\n",
      "Requirement already satisfied: huggingface-hub>=0.19.4 in /Users/zachsmith/.pyenv/versions/3.12.2/lib/python3.12/site-packages (from datasets) (0.22.2)\n",
      "Requirement already satisfied: packaging in /Users/zachsmith/.pyenv/versions/3.12.2/lib/python3.12/site-packages (from datasets) (24.0)\n",
      "Requirement already satisfied: pyyaml>=5.1 in /Users/zachsmith/.pyenv/versions/3.12.2/lib/python3.12/site-packages (from datasets) (6.0.1)\n",
      "Requirement already satisfied: aiosignal>=1.1.2 in /Users/zachsmith/.pyenv/versions/3.12.2/lib/python3.12/site-packages (from aiohttp->datasets) (1.3.1)\n",
      "Requirement already satisfied: attrs>=17.3.0 in /Users/zachsmith/.pyenv/versions/3.12.2/lib/python3.12/site-packages (from aiohttp->datasets) (23.2.0)\n",
      "Requirement already satisfied: frozenlist>=1.1.1 in /Users/zachsmith/.pyenv/versions/3.12.2/lib/python3.12/site-packages (from aiohttp->datasets) (1.4.1)\n",
      "Requirement already satisfied: multidict<7.0,>=4.5 in /Users/zachsmith/.pyenv/versions/3.12.2/lib/python3.12/site-packages (from aiohttp->datasets) (6.0.5)\n",
      "Requirement already satisfied: yarl<2.0,>=1.0 in /Users/zachsmith/.pyenv/versions/3.12.2/lib/python3.12/site-packages (from aiohttp->datasets) (1.9.4)\n",
      "Requirement already satisfied: typing-extensions>=3.7.4.3 in /Users/zachsmith/.pyenv/versions/3.12.2/lib/python3.12/site-packages (from huggingface-hub>=0.19.4->datasets) (4.10.0)\n",
      "Requirement already satisfied: charset-normalizer<4,>=2 in /Users/zachsmith/.pyenv/versions/3.12.2/lib/python3.12/site-packages (from requests>=2.19.0->datasets) (3.3.2)\n",
      "Requirement already satisfied: idna<4,>=2.5 in /Users/zachsmith/.pyenv/versions/3.12.2/lib/python3.12/site-packages (from requests>=2.19.0->datasets) (3.6)\n",
      "Requirement already satisfied: urllib3<3,>=1.21.1 in /Users/zachsmith/.pyenv/versions/3.12.2/lib/python3.12/site-packages (from requests>=2.19.0->datasets) (2.2.1)\n",
      "Requirement already satisfied: certifi>=2017.4.17 in /Users/zachsmith/.pyenv/versions/3.12.2/lib/python3.12/site-packages (from requests>=2.19.0->datasets) (2024.2.2)\n",
      "Requirement already satisfied: python-dateutil>=2.8.2 in /Users/zachsmith/.pyenv/versions/3.12.2/lib/python3.12/site-packages (from pandas->datasets) (2.9.0.post0)\n",
      "Requirement already satisfied: pytz>=2020.1 in /Users/zachsmith/.pyenv/versions/3.12.2/lib/python3.12/site-packages (from pandas->datasets) (2024.1)\n",
      "Requirement already satisfied: tzdata>=2022.7 in /Users/zachsmith/.pyenv/versions/3.12.2/lib/python3.12/site-packages (from pandas->datasets) (2024.1)\n",
      "Requirement already satisfied: six>=1.5 in /Users/zachsmith/.pyenv/versions/3.12.2/lib/python3.12/site-packages (from python-dateutil>=2.8.2->pandas->datasets) (1.16.0)\n",
      "^C\n",
      "\u001b[31mERROR: Operation cancelled by user\u001b[0m\u001b[31m\n",
      "\u001b[0m"
     ]
    }
   ],
   "source": [
    "!pip install datasets\n",
    "!pip install -q bitsandbytes accelerate loralib datasets\n",
    "!pip install -q git+https://github.com/huggingface/transformers.git@main git+https://github.com/huggingface/peft.git"
   ]
  },
  {
   "cell_type": "code",
   "execution_count": 1,
   "id": "64a51512-b462-44a4-ba11-1882b568c29f",
   "metadata": {},
   "outputs": [
    {
     "name": "stdout",
     "output_type": "stream",
     "text": [
      "'NoneType' object has no attribute 'cadam32bit_grad_fp32'\n"
     ]
    },
    {
     "name": "stderr",
     "output_type": "stream",
     "text": [
      "/Users/zachsmith/.pyenv/versions/3.12.2/lib/python3.12/site-packages/bitsandbytes/cextension.py:34: UserWarning: The installed version of bitsandbytes was compiled without GPU support. 8-bit optimizers, 8-bit multiplication, and GPU quantization are unavailable.\n",
      "  warn(\"The installed version of bitsandbytes was compiled without GPU support. \"\n"
     ]
    }
   ],
   "source": [
    "from training_utils import (\n",
    "    run_job\n",
    ")"
   ]
  },
  {
   "cell_type": "code",
   "execution_count": 2,
   "id": "9a750150-12ce-4d60-8cb9-3ef580899e78",
   "metadata": {},
   "outputs": [
    {
     "name": "stdout",
     "output_type": "stream",
     "text": [
      "STARTED\n",
      "starting run: 0\n",
      "loading model\n",
      "finished loading model\n",
      "loading data\n",
      "finished loading data\n",
      "training model\n"
     ]
    },
    {
     "name": "stderr",
     "output_type": "stream",
     "text": [
      "`use_cache=True` is incompatible with gradient checkpointing. Setting `use_cache=False`...\n"
     ]
    },
    {
     "name": "stdout",
     "output_type": "stream",
     "text": [
      "Epoch 1, Total Loss: 4.744084358215332\n",
      "Total loss : 4.744084358215332\n"
     ]
    },
    {
     "data": {
      "image/png": "[encoded data removed]",
      "text/plain": [
       "<Figure size 1000x500 with 1 Axes>"
      ]
     },
     "metadata": {},
     "output_type": "display_data"
    },
    {
     "name": "stdout",
     "output_type": "stream",
     "text": [
      "finished training model\n",
      "predicting teacher on validation set\n",
      "train_data_tokens:{'context': {'input_ids': tensor([[    2, 26644, 42531,     4,  3945,     5,   511, 11305, 30501, 23020,\n",
      "            50, 40127,   338,  9354,     9,   349,    97,     6,  4420,    50,\n",
      "           117,   116, 50118, 50118, 45641,   134,    35,   653,   109,  9545,\n",
      "            11,  2030,  3466,   120,     7,  3529,   116, 50118, 45641,   176,\n",
      "            35,   653,    16,  1789,   101,    11,  2030,  3466,   116, 50118,\n",
      "         47895,    35,  4420, 50118, 50118, 45641,   134,    35,   653,   197,\n",
      "            38,   109,     7,  1888,  2408,   116, 50118, 45641,   176,    35,\n",
      "          1336,    64,    38,  2217,    41,  5004,  1280,     9,  2408,   116,\n",
      "         50118, 47895,    35,   117, 50118, 50118, 45641,   134,    35,  1336,\n",
      "            64,    38,  1649,     5, 21032,   819,    36,  7539,  3888,    43,\n",
      "             9,   127,  3034,   116,  1534,    89,   143,  5936,  6410,   116,\n",
      "         50118, 45641,   176,    35,   653,    16,     5,   275,   169,     7,\n",
      "          1649,   110, 21032,  9453,    11, 11400,   354,   116, 50118, 47895,\n",
      "            35]]), 'attention_mask': tensor([[1, 1, 1, 1, 1, 1, 1, 1, 1, 1, 1, 1, 1, 1, 1, 1, 1, 1, 1, 1, 1, 1, 1, 1,\n",
      "         1, 1, 1, 1, 1, 1, 1, 1, 1, 1, 1, 1, 1, 1, 1, 1, 1, 1, 1, 1, 1, 1, 1, 1,\n",
      "         1, 1, 1, 1, 1, 1, 1, 1, 1, 1, 1, 1, 1, 1, 1, 1, 1, 1, 1, 1, 1, 1, 1, 1,\n",
      "         1, 1, 1, 1, 1, 1, 1, 1, 1, 1, 1, 1, 1, 1, 1, 1, 1, 1, 1, 1, 1, 1, 1, 1,\n",
      "         1, 1, 1, 1, 1, 1, 1, 1, 1, 1, 1, 1, 1, 1, 1, 1, 1, 1, 1, 1, 1, 1, 1, 1,\n",
      "         1, 1, 1, 1, 1, 1, 1, 1, 1, 1, 1]])}, 'query': {'input_ids': tensor([[    2, 13755,     5,   511, 11305, 30501, 23020,    50, 40127,   338,\n",
      "          9354,     9,   349,    97,     6,  4420,    50,   117,   116, 50118,\n",
      "         50118, 45641,   134,    35,  1336,    64,    38,  1649,     5, 21032,\n",
      "           819,    36,  7539,  3888,    43,     9,   127,  3034,   116,  1534,\n",
      "            89,   143,  5936,  6410,   116, 50118, 45641,   176,    35,   653,\n",
      "            16,     5,   275,   169,     7,  1649,   110, 21032,  9453,    11,\n",
      "         11400,   354,   116, 50118, 47895,    35]]), 'attention_mask': tensor([[1, 1, 1, 1, 1, 1, 1, 1, 1, 1, 1, 1, 1, 1, 1, 1, 1, 1, 1, 1, 1, 1, 1, 1,\n",
      "         1, 1, 1, 1, 1, 1, 1, 1, 1, 1, 1, 1, 1, 1, 1, 1, 1, 1, 1, 1, 1, 1, 1, 1,\n",
      "         1, 1, 1, 1, 1, 1, 1, 1, 1, 1, 1, 1, 1, 1, 1, 1, 1, 1]])}}\n",
      "finished run in-domain teacher val0\n",
      "final result 0.65625\n",
      "predicting in-domain on validation set\n",
      "student_prompt_tokens:{'input_ids': tensor([[    2, 13755,     5,   511, 11305, 30501, 23020,    50, 40127,   338,\n",
      "          9354,     9,   349,    97,     6,  4420,    50,   117,   116, 50118,\n",
      "         50118, 45641,   134,    35,  1534,  2086,  2408,   678,   396,  3022,\n",
      "             5,  6545,   101,    10, 41288,   116, 50118, 45641,   176,    35,\n",
      "          1336,    64,    38,  2217,  2408,   396,   164,     7,     5,  6545,\n",
      "           116, 50118, 47895,    35]]), 'attention_mask': tensor([[1, 1, 1, 1, 1, 1, 1, 1, 1, 1, 1, 1, 1, 1, 1, 1, 1, 1, 1, 1, 1, 1, 1, 1,\n",
      "         1, 1, 1, 1, 1, 1, 1, 1, 1, 1, 1, 1, 1, 1, 1, 1, 1, 1, 1, 1, 1, 1, 1, 1,\n",
      "         1, 1, 1, 1, 1, 1]])}\n"
     ]
    },
    {
     "name": "stderr",
     "output_type": "stream",
     "text": [
      "/Users/zachsmith/.pyenv/versions/3.12.2/lib/python3.12/site-packages/torch/utils/checkpoint.py:90: UserWarning: None of the inputs have requires_grad=True. Gradients will be None\n",
      "  warnings.warn(\n"
     ]
    },
    {
     "name": "stdout",
     "output_type": "stream",
     "text": [
      "finished run in-domain val0\n",
      "final result 0.0\n",
      "predicting on paws_qqp\n",
      "{'question1': 'Is losing weight possible without hitting the gym like a maniac?', 'question2': 'How can I lose weight without going to the gym?', 'label': 0, 'idx': 927}\n",
      "student_prompt_tokens:{'input_ids': tensor([[    2, 13755,     5,   511, 11305, 30501, 23020,    50, 40127,   338,\n",
      "          9354,     9,   349,    97,     6,  4420,    50,   117,   116, 50118,\n",
      "         50118, 45641,   134,    35,  1534,  2086,  2408,   678,   396,  3022,\n",
      "             5,  6545,   101,    10, 41288,   116, 50118, 45641,   176,    35,\n",
      "          1336,    64,    38,  2217,  2408,   396,   164,     7,     5,  6545,\n",
      "           116, 50118, 47895,    35]]), 'attention_mask': tensor([[1, 1, 1, 1, 1, 1, 1, 1, 1, 1, 1, 1, 1, 1, 1, 1, 1, 1, 1, 1, 1, 1, 1, 1,\n",
      "         1, 1, 1, 1, 1, 1, 1, 1, 1, 1, 1, 1, 1, 1, 1, 1, 1, 1, 1, 1, 1, 1, 1, 1,\n",
      "         1, 1, 1, 1, 1, 1]])}\n"
     ]
    },
    {
     "name": "stderr",
     "output_type": "stream",
     "text": [
      "/Users/zachsmith/.pyenv/versions/3.12.2/lib/python3.12/site-packages/torch/utils/checkpoint.py:90: UserWarning: None of the inputs have requires_grad=True. Gradients will be None\n",
      "  warnings.warn(\n"
     ]
    },
    {
     "name": "stdout",
     "output_type": "stream",
     "text": [
      "finished run ood 0\n",
      "final result 0.0\n",
      "FINISHED\n"
     ]
    }
   ],
   "source": [
    "# Models \"opt-125m\", \"opt-350m\", \"opt-1.3b\", \"opt-2.6b\"\n",
    "# Datasets \"mnli\", \"rte\", \"qqp\"\n",
    "runs = 1#4\n",
    "dataset_used = 'qqp'\n",
    "indomain = False\n",
    "model_name = \"opt-125m\"\n",
    "epochs = 1#20\n",
    "val_len = 100\n",
    "train_len = 32\n",
    "\n",
    "for seed in range(runs):\n",
    "    for context_len in [2]:#,16,32]:\n",
    "        print(\"STARTED\")\n",
    "        run_job(dataset_used, model_name, epochs, val_len, train_len, context_len, seed)\n",
    "        print(\"FINISHED\")"
   ]
  },
  {
   "cell_type": "code",
   "execution_count": null,
   "id": "af58931c",
   "metadata": {},
   "outputs": [],
   "source": []
  }
 ],
 "metadata": {
  "kernelspec": {
   "display_name": "dlproject-3.12.2",
   "language": "python",
   "name": "dlproject-3.12.2"
  },
  "language_info": {
   "codemirror_mode": {
    "name": "ipython",
    "version": 3
   },
   "file_extension": ".py",
   "mimetype": "text/x-python",
   "name": "python",
   "nbconvert_exporter": "python",
   "pygments_lexer": "ipython3",
   "version": "3.12.2"
  }
 },
 "nbformat": 4,
 "nbformat_minor": 5
}
