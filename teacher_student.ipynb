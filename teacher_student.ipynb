{
 "cells": [
  {
   "cell_type": "code",
   "execution_count": 1,
   "metadata": {},
   "outputs": [],
   "source": [
    "import torch\n",
    "import json\n",
    "import matplotlib.pyplot as plt\n",
    "\n",
    "import pandas as pd\n",
    "\n",
    "from transformers import OPTForCausalLM, AutoTokenizer\n",
    "from datasets import load_dataset, Dataset\n",
    "\n"
   ]
  },
  {
   "cell_type": "code",
   "execution_count": 2,
   "metadata": {},
   "outputs": [],
   "source": [
    "def json_pretty(json_string):\n",
    "    print(json.dumps(json_string,indent=4))\n",
    "    return None\n",
    "\n",
    "def label_to_text(label):\n",
    "    return [\"entailment\", \"neutral\", \"contradiction\"][label]\n",
    "\n",
    "def teacher_create_prompt(premise, hypothesis, label=None):\n",
    "    prompt = f\"\\nPremise: {premise}, \\nHypothesis: {hypothesis}\"\n",
    "    if label is not None:\n",
    "        prompt += f\",\\nLabel: {label_to_text(label)}\"\n",
    "    if label is None:\n",
    "        prompt += f\",\\nLabel:\"\n",
    "    return prompt\n",
    "\n",
    "def student_create_prompt(premise, hypothesis, label=None):\n",
    "    prompt = f\"Label if this is entailment or contradiction.\\nPremise: {premise},\\nHypothesis: {hypothesis},\\nLabel:\"\n",
    "    return prompt\n",
    "\n",
    "def create_extended_prompt(context_examples, query_example):\n",
    "    context_prompt = \"\"\n",
    "    for example in context_examples:\n",
    "        premise = example['premise']\n",
    "        hypothesis = example['hypothesis']\n",
    "        label = example['label']\n",
    "        context_prompt += teacher_create_prompt(premise, hypothesis, label) + \"\\n\"\n",
    "    \n",
    "    query_premise = query_example['premise']\n",
    "    query_hypothesis = query_example['hypothesis']\n",
    "    query_prompt = teacher_create_prompt(query_premise, query_hypothesis) \n",
    "    return context_prompt + query_prompt"
   ]
  },
  {
   "cell_type": "markdown",
   "metadata": {},
   "source": [
    "### Tokenizer + Models"
   ]
  },
  {
   "cell_type": "code",
   "execution_count": 3,
   "metadata": {},
   "outputs": [],
   "source": [
    "tokenizer = AutoTokenizer.from_pretrained(\"facebook/opt-350m\") # tokenizer\n",
    "teacher_model = OPTForCausalLM.from_pretrained(\"facebook/opt-350m\") # teacher model\n",
    "student_model = OPTForCausalLM.from_pretrained(\"facebook/opt-350m\") # student model"
   ]
  },
  {
   "cell_type": "markdown",
   "metadata": {},
   "source": [
    "### Datasets "
   ]
  },
  {
   "cell_type": "code",
   "execution_count": 4,
   "metadata": {},
   "outputs": [],
   "source": [
    "dataset = load_dataset(\"nyu-mll/glue\", \"mnli\", split='train')\n",
    "dataset = dataset.filter(lambda example: example[\"label\"] != 1)\n",
    "\n",
    "validation_dataset = load_dataset(\"nyu-mll/glue\", \"mnli\", split='validation_matched')\n",
    "validation_dataset = validation_dataset.filter(lambda example: example[\"label\"] != 1)\n"
   ]
  },
  {
   "cell_type": "markdown",
   "metadata": {},
   "source": [
    "### Data Example"
   ]
  },
  {
   "cell_type": "code",
   "execution_count": 5,
   "metadata": {},
   "outputs": [],
   "source": [
    "context_examples = [{key: value[i] for key, value in dataset[5:7].items()} for i in range(2)]\n",
    "query_example = {key: value for key, value in dataset[7].items()}"
   ]
  },
  {
   "cell_type": "code",
   "execution_count": 6,
   "metadata": {},
   "outputs": [
    {
     "name": "stdout",
     "output_type": "stream",
     "text": [
      "[\n",
      "    {\n",
      "        \"premise\": \"Gays and lesbians.\",\n",
      "        \"hypothesis\": \"Heterosexuals.\",\n",
      "        \"label\": 2,\n",
      "        \"idx\": 8\n",
      "    },\n",
      "    {\n",
      "        \"premise\": \"At the end of Rue des Francs-Bourgeois is what many consider to be the city's most handsome residential square, the Place des Vosges, with its stone and red brick facades.\",\n",
      "        \"hypothesis\": \"Place des Vosges is constructed entirely of gray marble.\",\n",
      "        \"label\": 2,\n",
      "        \"idx\": 9\n",
      "    }\n",
      "]\n"
     ]
    }
   ],
   "source": [
    "json_pretty(context_examples)"
   ]
  },
  {
   "cell_type": "code",
   "execution_count": 7,
   "metadata": {},
   "outputs": [
    {
     "name": "stdout",
     "output_type": "stream",
     "text": [
      "{\n",
      "    \"premise\": \"I burst through a set of cabin doors, and fell to the ground-\",\n",
      "    \"hypothesis\": \"I burst through the doors and fell down.\",\n",
      "    \"label\": 0,\n",
      "    \"idx\": 10\n",
      "}\n"
     ]
    }
   ],
   "source": [
    "json_pretty(query_example)"
   ]
  },
  {
   "cell_type": "markdown",
   "metadata": {},
   "source": [
    "### Prompt Example"
   ]
  },
  {
   "cell_type": "code",
   "execution_count": 8,
   "metadata": {},
   "outputs": [
    {
     "name": "stdout",
     "output_type": "stream",
     "text": [
      "\n",
      "Premise: Gays and lesbians., \n",
      "Hypothesis: Heterosexuals.,\n",
      "Label: contradiction\n",
      "\n",
      "Premise: At the end of Rue des Francs-Bourgeois is what many consider to be the city's most handsome residential square, the Place des Vosges, with its stone and red brick facades., \n",
      "Hypothesis: Place des Vosges is constructed entirely of gray marble.,\n",
      "Label: contradiction\n",
      "\n",
      "Premise: I burst through a set of cabin doors, and fell to the ground-, \n",
      "Hypothesis: I burst through the doors and fell down.,\n",
      "Label:\n"
     ]
    }
   ],
   "source": [
    "teacher_prompt = create_extended_prompt(context_examples, query_example)\n",
    "student_prompt = student_create_prompt(query_example['premise'], query_example['hypothesis'])\n",
    "\n",
    "teacher_inputs = tokenizer(teacher_prompt, return_tensors=\"pt\")\n",
    "student_inputs = tokenizer(student_prompt, return_tensors=\"pt\")\n",
    "\n",
    "print(teacher_prompt)"
   ]
  },
  {
   "cell_type": "code",
   "execution_count": 9,
   "metadata": {},
   "outputs": [
    {
     "name": "stdout",
     "output_type": "stream",
     "text": [
      " contradiction\n",
      "torch.Size([1, 132]) torch.Size([1, 50272])\n",
      "torch.Size([1, 50272])\n"
     ]
    }
   ],
   "source": [
    "teacher_outputs_1 = teacher_model.generate(**teacher_inputs, max_length=teacher_inputs['input_ids'].shape[-1] + 1, output_scores=True, return_dict_in_generate=True)\n",
    "teacher_probs_1 = torch.nn.functional.softmax(teacher_outputs_1.scores[0], dim=-1)\n",
    "print(tokenizer.decode(teacher_outputs_1[0][0][-1], skip_special_tokens=True))\n",
    "print(teacher_outputs_1[0].shape, teacher_outputs_1.scores[0].shape)\n",
    "\n",
    "argmax_index = torch.argmax(teacher_outputs_1.scores[0])\n",
    "print(teacher_probs_1.shape)\n"
   ]
  },
  {
   "cell_type": "markdown",
   "metadata": {},
   "source": [
    "### Student model training"
   ]
  },
  {
   "cell_type": "code",
   "execution_count": 10,
   "metadata": {},
   "outputs": [
    {
     "data": {
      "text/plain": [
       "OPTForCausalLM(\n",
       "  (model): OPTModel(\n",
       "    (decoder): OPTDecoder(\n",
       "      (embed_tokens): Embedding(50272, 512, padding_idx=1)\n",
       "      (embed_positions): OPTLearnedPositionalEmbedding(2050, 1024)\n",
       "      (project_out): Linear(in_features=1024, out_features=512, bias=False)\n",
       "      (project_in): Linear(in_features=512, out_features=1024, bias=False)\n",
       "      (layers): ModuleList(\n",
       "        (0-23): 24 x OPTDecoderLayer(\n",
       "          (self_attn): OPTAttention(\n",
       "            (k_proj): Linear(in_features=1024, out_features=1024, bias=True)\n",
       "            (v_proj): Linear(in_features=1024, out_features=1024, bias=True)\n",
       "            (q_proj): Linear(in_features=1024, out_features=1024, bias=True)\n",
       "            (out_proj): Linear(in_features=1024, out_features=1024, bias=True)\n",
       "          )\n",
       "          (activation_fn): ReLU()\n",
       "          (self_attn_layer_norm): LayerNorm((1024,), eps=1e-05, elementwise_affine=True)\n",
       "          (fc1): Linear(in_features=1024, out_features=4096, bias=True)\n",
       "          (fc2): Linear(in_features=4096, out_features=1024, bias=True)\n",
       "          (final_layer_norm): LayerNorm((1024,), eps=1e-05, elementwise_affine=True)\n",
       "        )\n",
       "      )\n",
       "    )\n",
       "  )\n",
       "  (lm_head): Linear(in_features=512, out_features=50272, bias=False)\n",
       ")"
      ]
     },
     "execution_count": 10,
     "metadata": {},
     "output_type": "execute_result"
    }
   ],
   "source": [
    "student_model.train()"
   ]
  },
  {
   "cell_type": "code",
   "execution_count": 11,
   "metadata": {},
   "outputs": [
    {
     "name": "stdout",
     "output_type": "stream",
     "text": [
      "Label if this is entailment or contradiction.\n",
      "Premise: I burst through a set of cabin doors, and fell to the ground-,\n",
      "Hypothesis: I burst through the doors and fell down.,\n",
      "Label: I burst\n"
     ]
    }
   ],
   "source": [
    "student_outputs = student_model.generate(**student_inputs, max_length=student_inputs['input_ids'].shape[-1] + 2)\n",
    "s_output_text = tokenizer.decode(student_outputs[0], skip_special_tokens=True)\n",
    "predicted_label = s_output_text.split(\"Label:\")[-1].strip().split('.')[0].strip()\n",
    "print(s_output_text)"
   ]
  },
  {
   "cell_type": "code",
   "execution_count": 12,
   "metadata": {},
   "outputs": [
    {
     "data": {
      "text/plain": [
       "torch.Size([1, 50272])"
      ]
     },
     "execution_count": 12,
     "metadata": {},
     "output_type": "execute_result"
    }
   ],
   "source": [
    "# student_outputs = student_model.generate(**student_inputs, max_length=student_inputs['input_ids'].shape[-1] + 2)\n",
    "# s_output_text = tokenizer.decode(student_outputs[0], skip_special_tokens=True)\n",
    "# student_predicted_label = s_output_text.split(\"Label:\")[-1].strip().split('.')[0].strip()\n",
    "# print(s_output_text)\n",
    "\n",
    "# student_outputs = student_model.generate(**student_inputs, max_length=student_inputs['input_ids'].shape[-1] + 1, output_scores=True, return_dict_in_generate=True)\n",
    "# student_probs_1 = torch.nn.functional.softmax(student_outputs.scores[0], dim=-1)\n",
    "\n",
    "# print(tokenizer.decode(student_outputs[0][0][-1], skip_special_tokens=True))\n",
    "# print(student_outputs[0].shape, student_outputs.scores[0].shape)\n",
    "\n",
    "# s_argmax_index = torch.argmax(student_outputs.scores[0])\n",
    "# print(student_probs_1.shape, s_argmax_index)\n",
    "# student_probs_1.requires_grad\n",
    "\n",
    "student_logits = student_model(**student_inputs).logits \n",
    "student_probs_1 = torch.nn.functional.softmax(student_logits[:,-1,:], dim=-1)\n",
    "student_probs_1.shape"
   ]
  },
  {
   "cell_type": "code",
   "execution_count": 13,
   "metadata": {},
   "outputs": [
    {
     "name": "stdout",
     "output_type": "stream",
     "text": [
      "tensor(10.7571, grad_fn=<DivBackward0>)\n"
     ]
    },
    {
     "data": {
      "text/plain": [
       "True"
      ]
     },
     "execution_count": 13,
     "metadata": {},
     "output_type": "execute_result"
    }
   ],
   "source": [
    "optimizer = torch.optim.AdamW(student_model.parameters(), lr=0.001)\n",
    "\n",
    "kl_divergence = torch.nn.functional.kl_div(student_probs_1.log(), teacher_probs_1, reduction='batchmean')\n",
    "\n",
    "print(kl_divergence)\n",
    "kl_divergence.requires_grad"
   ]
  },
  {
   "cell_type": "code",
   "execution_count": 14,
   "metadata": {},
   "outputs": [
    {
     "name": "stdout",
     "output_type": "stream",
     "text": [
      "1, Average Loss: 2.689265727996826\n"
     ]
    }
   ],
   "source": [
    "total_loss = 0\n",
    "\n",
    "optimizer.zero_grad()\n",
    "kl_divergence.backward()\n",
    "optimizer.step()\n",
    "\n",
    "total_loss += kl_divergence.item()\n",
    "\n",
    "print(f\"1, Average Loss: {total_loss/len(query_example)}\")"
   ]
  },
  {
   "cell_type": "code",
   "execution_count": 15,
   "metadata": {},
   "outputs": [
    {
     "name": "stdout",
     "output_type": "stream",
     "text": [
      "Label if this is entailment or contradiction.\n",
      "Premise: I burst through a set of cabin doors, and fell to the ground-,\n",
      "Hypothesis: I burst through the doors and fell down.,\n",
      "Label: contradiction\n",
      "Label only: contradiction\n"
     ]
    }
   ],
   "source": [
    "student_outputs = student_model.generate(**student_inputs, max_length=student_inputs['input_ids'].shape[-1] + 1)\n",
    "s_output_text = tokenizer.decode(student_outputs[0], skip_special_tokens=True)\n",
    "predicted_label = s_output_text.split(\"Label:\")[-1].strip().split('.')[0].strip()\n",
    "print(s_output_text)\n",
    "print(\"Label only:\" , predicted_label)"
   ]
  },
  {
   "cell_type": "code",
   "execution_count": 16,
   "metadata": {},
   "outputs": [],
   "source": [
    "def create_batches(dataset, context_size=2, batch_size=3):\n",
    "    batch = []\n",
    "    for index in range(0, len(dataset), context_size + 1):\n",
    "        if index + batch_size > len(dataset):\n",
    "            break  # Avoid going out of index range, discard last incomplete batch\n",
    "        \n",
    "        # Create batch: 2 context + 1 query\n",
    "        context = dataset[index:index + context_size]\n",
    "        query = dataset[index + context_size]\n",
    "\n",
    "        # Collect and format data for the batch\n",
    "        batch_data = {\n",
    "            'context': [{key: value[i] for key, value in context.items()} for i in range(2)],\n",
    "            'query': {key: value for key, value in query.items()}\n",
    "        }\n",
    "        batch.append(batch_data)\n",
    "    \n",
    "    return batch\n",
    "\n",
    "# Subset of only 300 rows.\n",
    "subset_dataset = dataset.select(range(300))\n",
    "batches = create_batches(subset_dataset)"
   ]
  },
  {
   "cell_type": "code",
   "execution_count": 17,
   "metadata": {},
   "outputs": [
    {
     "name": "stdout",
     "output_type": "stream",
     "text": [
      "Using device: cuda\n"
     ]
    }
   ],
   "source": [
    "# Check if CUDA is available, otherwise use CPU\n",
    "device = torch.device(\"cuda\" if torch.cuda.is_available() else \"cpu\")\n",
    "print(f\"Using device: {device}\")"
   ]
  },
  {
   "cell_type": "code",
   "execution_count": 18,
   "metadata": {},
   "outputs": [],
   "source": [
    "# Assuming `losses` is the list of epoch losses returned from the `train` function\n",
    "def plot_losses(losses):\n",
    "    plt.figure(figsize=(10, 5))\n",
    "    plt.plot(losses, marker='o', linestyle='-', color='b')\n",
    "    plt.title('Training Loss Per Epoch')\n",
    "    plt.xlabel('Epoch')\n",
    "    plt.ylabel('Average Loss')\n",
    "    plt.grid(True)\n",
    "    plt.show()\n"
   ]
  },
  {
   "cell_type": "code",
   "execution_count": 19,
   "metadata": {},
   "outputs": [
    {
     "name": "stdout",
     "output_type": "stream",
     "text": [
      "Epoch 1, Total Loss: 3.4099406362511218\n",
      "Epoch 2, Total Loss: 1.5147778469448288\n",
      "Epoch 3, Total Loss: 1.4931619986891747\n",
      "Epoch 4, Total Loss: 1.4231533057366808\n",
      "Epoch 5, Total Loss: 1.3566293749026954\n",
      "Epoch 6, Total Loss: 1.382598176288108\n",
      "Epoch 7, Total Loss: 1.3046206549430888\n",
      "Epoch 8, Total Loss: 1.3357705281426508\n",
      "Epoch 9, Total Loss: 1.2629393339157104\n",
      "Epoch 10, Total Loss: 1.2486189100891352\n",
      "Total loss : 0.7491713460534811\n"
     ]
    },
    {
     "data": {
      "image/png": "[encoded data removed]",
      "text/plain": [
       "<Figure size 1000x500 with 1 Axes>"
      ]
     },
     "metadata": {},
     "output_type": "display_data"
    }
   ],
   "source": [
    "import torch\n",
    "\n",
    "def train(data, epochs=10, batch_size=16, device='cpu'):\n",
    "    student_model.to(device)\n",
    "    teacher_model.to(device)\n",
    "    \n",
    "    student_model.train()\n",
    "    optimizer = torch.optim.AdamW(student_model.parameters(), lr=0.001)\n",
    "    epoch_losses = []\n",
    "\n",
    "\n",
    "    for epoch in range(epochs):\n",
    "        total_loss = 0\n",
    "        num_batches = len(data) // batch_size \n",
    "        \n",
    "        for i in range(num_batches):\n",
    "            batch_loss = 0\n",
    "            for j in range(batch_size):\n",
    "                index = i * batch_size + j\n",
    "                teacher_prompt = create_extended_prompt(data[index]['context'], data[index]['query'])\n",
    "                student_prompt = student_create_prompt(data[index]['query']['premise'], data[index]['query']['hypothesis'])\n",
    "                \n",
    "                teacher_inputs = tokenizer(teacher_prompt, return_tensors=\"pt\").to(device)\n",
    "                student_inputs = tokenizer(student_prompt, return_tensors=\"pt\").to(device)\n",
    "                \n",
    "                teacher_outputs = teacher_model.generate(**teacher_inputs, max_length=teacher_inputs['input_ids'].shape[-1] + 1, output_scores=True, return_dict_in_generate=True)\n",
    "                teacher_probs = torch.nn.functional.softmax(teacher_outputs.scores[0], dim=-1)\n",
    "                \n",
    "                student_logits = student_model(**student_inputs).logits\n",
    "                student_probs = torch.nn.functional.softmax(student_logits[:, -1, :], dim=-1)\n",
    "                \n",
    "                kl_divergence = torch.nn.functional.kl_div(student_probs.log(), teacher_probs, reduction='batchmean')\n",
    "                \n",
    "                optimizer.zero_grad()\n",
    "                kl_divergence.backward()\n",
    "                optimizer.step()\n",
    "\n",
    "                batch_loss += kl_divergence.item()\n",
    "\n",
    "            # Average loss for the batch\n",
    "            batch_loss /= batch_size\n",
    "            total_loss += batch_loss\n",
    "            # print(f\"Epoch {epoch + 1}, Batch {i + 1}, Average Loss: {batch_loss}\")\n",
    "\n",
    "\n",
    "        # Average loss for the epoch\n",
    "        epoch_loss = total_loss / num_batches\n",
    "        epoch_losses.append(epoch_loss)\n",
    "\n",
    "        print(f\"Epoch {epoch + 1}, Total Loss: {epoch_loss}\")\n",
    "        \n",
    "    print(f\"Total loss : {total_loss/epochs}\")\n",
    "    plot_losses(epoch_losses)\n",
    "    torch.save(student_model, './models/student.pth')\n",
    "\n",
    "\n",
    "train(batches, device=device)\n"
   ]
  },
  {
   "cell_type": "code",
   "execution_count": 20,
   "metadata": {},
   "outputs": [
    {
     "name": "stdout",
     "output_type": "stream",
     "text": [
      "Label if this is entailment or contradiction.\n",
      "Premise: I burst through a set of cabin doors, and fell to the ground-,\n",
      "Hypothesis: I burst through the doors and fell down.,\n",
      "Label: contradiction\n",
      "Label only: contradiction\n"
     ]
    }
   ],
   "source": [
    "student_logits = student_logits.to(device)\n",
    "student_inputs = student_inputs.to(device)\n",
    "student_outputs = student_model.generate(**student_inputs, max_length=student_inputs['input_ids'].shape[-1] + 1).to(device)\n",
    "s_output_text = tokenizer.decode(student_outputs[0], skip_special_tokens=True)\n",
    "predicted_label = s_output_text.split(\"Label:\")[-1].strip().split('.')[0].strip()\n",
    "print(s_output_text)\n",
    "print(\"Label only:\" , predicted_label)"
   ]
  },
  {
   "cell_type": "code",
   "execution_count": 21,
   "metadata": {},
   "outputs": [],
   "source": [
    "def create_student_token(data, tokenizer, device = 'cpu'):\n",
    "    tokens = []\n",
    "    for i in range(len(data)):\n",
    "        prompt = student_create_prompt(data[i]['premise'], data[i]['hypothesis'])\n",
    "        tokens.append(tokenizer(prompt, return_tensors=\"pt\").to(device))\n",
    "    return tokens\n",
    "\n",
    "tokens = create_student_token(validation_dataset, tokenizer, device)"
   ]
  },
  {
   "cell_type": "code",
   "execution_count": 22,
   "metadata": {},
   "outputs": [],
   "source": [
    "def predict(model, source, target=None, device='cpu'):\n",
    "    predict = []\n",
    "    for token in source:\n",
    "        output = model.generate(**token, max_length=token['input_ids'].shape[-1] + 1).to(device)\n",
    "        decoded_output = tokenizer.decode(output[0], skip_special_tokens=True)\n",
    "        predicted_label = decoded_output.split(\"Label:\")[-1].strip().split('.')[0].strip()\n",
    "        predict.append(predicted_label)\n",
    "        \n",
    "    return predict\n",
    "   \n",
    "predict = predict(student_model, tokens, device=device)  "
   ]
  },
  {
   "cell_type": "code",
   "execution_count": 23,
   "metadata": {},
   "outputs": [],
   "source": [
    "label_mapping = {'contradiction': 2, 'entail': 0}\n",
    "numberical_labels = [label_mapping[label] for label in predict]"
   ]
  },
  {
   "cell_type": "code",
   "execution_count": 24,
   "metadata": {},
   "outputs": [
    {
     "name": "stdout",
     "output_type": "stream",
     "text": [
      "0.5138971906754334\n"
     ]
    }
   ],
   "source": [
    "def accuracy(prediction, actual):\n",
    "    if len(prediction) != len(actual):\n",
    "        raise ValueError(\"The length of predictions and actuals must be the same.\")\n",
    "    correct = sum(1 for pred, actual in zip(prediction, actual) if pred == actual)\n",
    "    total = len(prediction)\n",
    "    return correct / total if total > 0 else 0\n",
    "\n",
    "accuracy = accuracy(numberical_labels, validation_dataset['label'])\n",
    "print(accuracy)"
   ]
  }
 ],
 "metadata": {
  "kernelspec": {
   "display_name": "Python 3 (ipykernel)",
   "language": "python",
   "name": "python3"
  },
  "language_info": {
   "codemirror_mode": {
    "name": "ipython",
    "version": 3
   },
   "file_extension": ".py",
   "mimetype": "text/x-python",
   "name": "python",
   "nbconvert_exporter": "python",
   "pygments_lexer": "ipython3",
   "version": "3.12.2"
  }
 },
 "nbformat": 4,
 "nbformat_minor": 4
}
