{
 "cells": [
  {
   "cell_type": "code",
   "execution_count": 1,
   "metadata": {},
   "outputs": [],
   "source": [
    "import torch\n",
    "import json\n",
    "\n",
    "import pandas as pd\n",
    "import matplotlib.pyplot as plt\n",
    "\n",
    "from transformers import OPTForCausalLM, AutoTokenizer\n",
    "from datasets import load_dataset, Dataset\n",
    "\n",
    "from data_utils import (\n",
    "    load_glue_datasets,\n",
    "    load_hans_dataset,\n",
    "    load_mnli_mismatched_dataset,\n",
    "    load_paws_qqp_dataset,\n",
    "    load_cola_ood_dataset,\n",
    "    task_to_keys\n",
    ")\n",
    "from context_utils import create_few_shot_context"
   ]
  },
  {
   "cell_type": "code",
   "execution_count": 2,
   "metadata": {},
   "outputs": [
    {
     "name": "stdout",
     "output_type": "stream",
     "text": [
      "Using device: cpu\n"
     ]
    }
   ],
   "source": [
    "# Check if CUDA is available, otherwise use CPU\n",
    "device = torch.device(\"cuda\" if torch.cuda.is_available() else \"cpu\")\n",
    "print(f\"Using device: {device}\")"
   ]
  },
  {
   "cell_type": "markdown",
   "metadata": {},
   "source": [
    "## Tokenizer + Models"
   ]
  },
  {
   "cell_type": "code",
   "execution_count": 4,
   "metadata": {},
   "outputs": [
    {
     "data": {
      "application/vnd.jupyter.widget-view+json": {
       "model_id": "0f9ba0b4197246bda7483bcb9e49062b",
       "version_major": 2,
       "version_minor": 0
      },
      "text/plain": [
       "tokenizer_config.json:   0%|          | 0.00/685 [00:00<?, ?B/s]"
      ]
     },
     "metadata": {},
     "output_type": "display_data"
    },
    {
     "data": {
      "application/vnd.jupyter.widget-view+json": {
       "model_id": "9e28386570164b1990b36737d86d5585",
       "version_major": 2,
       "version_minor": 0
      },
      "text/plain": [
       "config.json:   0%|          | 0.00/651 [00:00<?, ?B/s]"
      ]
     },
     "metadata": {},
     "output_type": "display_data"
    },
    {
     "data": {
      "application/vnd.jupyter.widget-view+json": {
       "model_id": "456fedc4af7c424e83940c6f92cdeb1a",
       "version_major": 2,
       "version_minor": 0
      },
      "text/plain": [
       "vocab.json:   0%|          | 0.00/899k [00:00<?, ?B/s]"
      ]
     },
     "metadata": {},
     "output_type": "display_data"
    },
    {
     "data": {
      "application/vnd.jupyter.widget-view+json": {
       "model_id": "deea9031889c467dadc414fec25a165e",
       "version_major": 2,
       "version_minor": 0
      },
      "text/plain": [
       "merges.txt:   0%|          | 0.00/456k [00:00<?, ?B/s]"
      ]
     },
     "metadata": {},
     "output_type": "display_data"
    },
    {
     "data": {
      "application/vnd.jupyter.widget-view+json": {
       "model_id": "aff49b6da9104a53898bdb28c90c0db5",
       "version_major": 2,
       "version_minor": 0
      },
      "text/plain": [
       "special_tokens_map.json:   0%|          | 0.00/441 [00:00<?, ?B/s]"
      ]
     },
     "metadata": {},
     "output_type": "display_data"
    },
    {
     "data": {
      "application/vnd.jupyter.widget-view+json": {
       "model_id": "cb49e115d1224bbd8876d6fdf6f39b07",
       "version_major": 2,
       "version_minor": 0
      },
      "text/plain": [
       "pytorch_model.bin:   0%|          | 0.00/251M [00:00<?, ?B/s]"
      ]
     },
     "metadata": {},
     "output_type": "display_data"
    },
    {
     "data": {
      "application/vnd.jupyter.widget-view+json": {
       "model_id": "2f7596e127a846dca3dec8956e2bcccd",
       "version_major": 2,
       "version_minor": 0
      },
      "text/plain": [
       "generation_config.json:   0%|          | 0.00/137 [00:00<?, ?B/s]"
      ]
     },
     "metadata": {},
     "output_type": "display_data"
    }
   ],
   "source": [
    "tokenizer = AutoTokenizer.from_pretrained(\"facebook/opt-125m\") # tokenizer\n",
    "teacher_model = OPTForCausalLM.from_pretrained(\"facebook/opt-125m\") # teacher model\n",
    "student_model = OPTForCausalLM.from_pretrained(\"facebook/opt-125m\") # student model"
   ]
  },
  {
   "cell_type": "markdown",
   "metadata": {},
   "source": [
    "## Datasets"
   ]
  },
  {
   "cell_type": "code",
   "execution_count": 5,
   "metadata": {},
   "outputs": [
    {
     "data": {
      "application/vnd.jupyter.widget-view+json": {
       "model_id": "dbca7215ae154abb88f607efe18fbb59",
       "version_major": 2,
       "version_minor": 0
      },
      "text/plain": [
       "Downloading readme:   0%|          | 0.00/35.3k [00:00<?, ?B/s]"
      ]
     },
     "metadata": {},
     "output_type": "display_data"
    },
    {
     "name": "stderr",
     "output_type": "stream",
     "text": [
      "Downloading data: 100%|██████████| 52.2M/52.2M [00:00<00:00, 69.1MB/s]\n",
      "Downloading data: 100%|██████████| 1.21M/1.21M [00:00<00:00, 6.82MB/s]\n",
      "Downloading data: 100%|██████████| 1.25M/1.25M [00:00<00:00, 7.81MB/s]\n",
      "Downloading data: 100%|██████████| 1.22M/1.22M [00:00<00:00, 6.44MB/s]\n",
      "Downloading data: 100%|██████████| 1.26M/1.26M [00:00<00:00, 4.81MB/s]\n"
     ]
    },
    {
     "data": {
      "application/vnd.jupyter.widget-view+json": {
       "model_id": "0ef17844fc534088a41aa4f300fd605b",
       "version_major": 2,
       "version_minor": 0
      },
      "text/plain": [
       "Generating train split:   0%|          | 0/392702 [00:00<?, ? examples/s]"
      ]
     },
     "metadata": {},
     "output_type": "display_data"
    },
    {
     "data": {
      "application/vnd.jupyter.widget-view+json": {
       "model_id": "51e3591b59704be1804b19c3f4e74146",
       "version_major": 2,
       "version_minor": 0
      },
      "text/plain": [
       "Generating validation_matched split:   0%|          | 0/9815 [00:00<?, ? examples/s]"
      ]
     },
     "metadata": {},
     "output_type": "display_data"
    },
    {
     "data": {
      "application/vnd.jupyter.widget-view+json": {
       "model_id": "950c1eb5f6174147b98c13dbb8d78a29",
       "version_major": 2,
       "version_minor": 0
      },
      "text/plain": [
       "Generating validation_mismatched split:   0%|          | 0/9832 [00:00<?, ? examples/s]"
      ]
     },
     "metadata": {},
     "output_type": "display_data"
    },
    {
     "data": {
      "application/vnd.jupyter.widget-view+json": {
       "model_id": "ea5fbaa6a60c46a39f57fd257404f3c0",
       "version_major": 2,
       "version_minor": 0
      },
      "text/plain": [
       "Generating test_matched split:   0%|          | 0/9796 [00:00<?, ? examples/s]"
      ]
     },
     "metadata": {},
     "output_type": "display_data"
    },
    {
     "data": {
      "application/vnd.jupyter.widget-view+json": {
       "model_id": "f23ecb2349d149d08063bda76214d101",
       "version_major": 2,
       "version_minor": 0
      },
      "text/plain": [
       "Generating test_mismatched split:   0%|          | 0/9847 [00:00<?, ? examples/s]"
      ]
     },
     "metadata": {},
     "output_type": "display_data"
    },
    {
     "data": {
      "application/vnd.jupyter.widget-view+json": {
       "model_id": "8541c5c238e34c7bbbe7df0af26136ab",
       "version_major": 2,
       "version_minor": 0
      },
      "text/plain": [
       "Filter:   0%|          | 0/392702 [00:00<?, ? examples/s]"
      ]
     },
     "metadata": {},
     "output_type": "display_data"
    },
    {
     "data": {
      "application/vnd.jupyter.widget-view+json": {
       "model_id": "a3e883f286bc465eb2d3ae528d2bd901",
       "version_major": 2,
       "version_minor": 0
      },
      "text/plain": [
       "Filter:   0%|          | 0/9815 [00:00<?, ? examples/s]"
      ]
     },
     "metadata": {},
     "output_type": "display_data"
    },
    {
     "data": {
      "application/vnd.jupyter.widget-view+json": {
       "model_id": "8173cbb20436411db912de338b012983",
       "version_major": 2,
       "version_minor": 0
      },
      "text/plain": [
       "Filter:   0%|          | 0/9832 [00:00<?, ? examples/s]"
      ]
     },
     "metadata": {},
     "output_type": "display_data"
    },
    {
     "data": {
      "application/vnd.jupyter.widget-view+json": {
       "model_id": "7b4547945fc64570b7fee11e1e09fef9",
       "version_major": 2,
       "version_minor": 0
      },
      "text/plain": [
       "Filter:   0%|          | 0/9796 [00:00<?, ? examples/s]"
      ]
     },
     "metadata": {},
     "output_type": "display_data"
    },
    {
     "data": {
      "application/vnd.jupyter.widget-view+json": {
       "model_id": "9eac59163df94fd2b43931b1f5200e40",
       "version_major": 2,
       "version_minor": 0
      },
      "text/plain": [
       "Filter:   0%|          | 0/9847 [00:00<?, ? examples/s]"
      ]
     },
     "metadata": {},
     "output_type": "display_data"
    },
    {
     "data": {
      "application/vnd.jupyter.widget-view+json": {
       "model_id": "2e6bbf08f56f493194407c05b4b38b1f",
       "version_major": 2,
       "version_minor": 0
      },
      "text/plain": [
       "Map:   0%|          | 0/261802 [00:00<?, ? examples/s]"
      ]
     },
     "metadata": {},
     "output_type": "display_data"
    },
    {
     "data": {
      "application/vnd.jupyter.widget-view+json": {
       "model_id": "4cd04e6482f943f4b333e7e0d53e7d8e",
       "version_major": 2,
       "version_minor": 0
      },
      "text/plain": [
       "Map:   0%|          | 0/6692 [00:00<?, ? examples/s]"
      ]
     },
     "metadata": {},
     "output_type": "display_data"
    },
    {
     "data": {
      "application/vnd.jupyter.widget-view+json": {
       "model_id": "72a98bb6efc04223b355c2be42314758",
       "version_major": 2,
       "version_minor": 0
      },
      "text/plain": [
       "Map:   0%|          | 0/6703 [00:00<?, ? examples/s]"
      ]
     },
     "metadata": {},
     "output_type": "display_data"
    },
    {
     "data": {
      "application/vnd.jupyter.widget-view+json": {
       "model_id": "ab199ca7c54e469c8892c07e562b636c",
       "version_major": 2,
       "version_minor": 0
      },
      "text/plain": [
       "Map:   0%|          | 0/9796 [00:00<?, ? examples/s]"
      ]
     },
     "metadata": {},
     "output_type": "display_data"
    },
    {
     "data": {
      "application/vnd.jupyter.widget-view+json": {
       "model_id": "4e1e3f6b04f148caa71152e30e5164c1",
       "version_major": 2,
       "version_minor": 0
      },
      "text/plain": [
       "Map:   0%|          | 0/9847 [00:00<?, ? examples/s]"
      ]
     },
     "metadata": {},
     "output_type": "display_data"
    },
    {
     "data": {
      "application/vnd.jupyter.widget-view+json": {
       "model_id": "b6473bb300f1481b9ce4504fb269c550",
       "version_major": 2,
       "version_minor": 0
      },
      "text/plain": [
       "Casting the dataset:   0%|          | 0/261802 [00:00<?, ? examples/s]"
      ]
     },
     "metadata": {},
     "output_type": "display_data"
    },
    {
     "data": {
      "application/vnd.jupyter.widget-view+json": {
       "model_id": "b0a4d83049094b70b145576569d11e30",
       "version_major": 2,
       "version_minor": 0
      },
      "text/plain": [
       "Casting the dataset:   0%|          | 0/6692 [00:00<?, ? examples/s]"
      ]
     },
     "metadata": {},
     "output_type": "display_data"
    },
    {
     "data": {
      "application/vnd.jupyter.widget-view+json": {
       "model_id": "7219b3614b554f4697ca8c03d97e8522",
       "version_major": 2,
       "version_minor": 0
      },
      "text/plain": [
       "Casting the dataset:   0%|          | 0/6703 [00:00<?, ? examples/s]"
      ]
     },
     "metadata": {},
     "output_type": "display_data"
    },
    {
     "data": {
      "application/vnd.jupyter.widget-view+json": {
       "model_id": "9159c8dcb24a4f19a9bbde927816fcc6",
       "version_major": 2,
       "version_minor": 0
      },
      "text/plain": [
       "Casting the dataset:   0%|          | 0/9796 [00:00<?, ? examples/s]"
      ]
     },
     "metadata": {},
     "output_type": "display_data"
    },
    {
     "data": {
      "application/vnd.jupyter.widget-view+json": {
       "model_id": "cb347ae2c78346799ac20718c02b555b",
       "version_major": 2,
       "version_minor": 0
      },
      "text/plain": [
       "Casting the dataset:   0%|          | 0/9847 [00:00<?, ? examples/s]"
      ]
     },
     "metadata": {},
     "output_type": "display_data"
    }
   ],
   "source": [
    "data_set_used='mnli'\n",
    "datasets, labels, num_labels = load_glue_datasets(data_set_used)"
   ]
  },
  {
   "cell_type": "code",
   "execution_count": 8,
   "metadata": {},
   "outputs": [],
   "source": [
    "def create_batch_token(dataset_name, datasets,tokenizer,num_shots=1, device = 'cpu', split='train',len_subset=300):\n",
    "    batch_tokens = []\n",
    "    batch_strings = []\n",
    "    datasets = datasets[split]\n",
    "    for i in range(0, len_subset, num_shots):\n",
    "        if split == 'train':\n",
    "            context, student_context, indices = create_few_shot_context(\n",
    "                dataset_name,\n",
    "                datasets,\n",
    "                num_shots,\n",
    "                teacher_description=\"\"\n",
    "                from_indices=list(range(i, i + num_shots))\n",
    "            )\n",
    "            token_data= {\n",
    "                'context':(tokenizer(context, return_tensors=\"pt\")).to(device),\n",
    "                'query':(tokenizer(student_context, return_tensors=\"pt\")).to(device)\n",
    "            }\n",
    "            string_data = {\n",
    "                'context':context,\n",
    "                'query':student_context\n",
    "            }\n",
    "        else:\n",
    "            context, student_context, indices = create_few_shot_context(\n",
    "                dataset_name,\n",
    "                datasets,\n",
    "                num_shots,\n",
    "                from_indices=list(range(i, i + num_shots))\n",
    "            )\n",
    "            token_data = (tokenizer(student_context, return_tensors=\"pt\")).to(device)\n",
    "            string_data = student_context\n",
    "        batch_tokens.append(token_data)\n",
    "        batch_strings.append(string_data)\n",
    "    return batch_tokens, batch_strings\n",
    "\n",
    "train_data_tokens, train_data_strings = create_batch_token(\n",
    "    data_set_used, datasets, num_shots=3, tokenizer=tokenizer, device=device\n",
    ")\n",
    "student_prompt_tokens, student_prompt_strings = create_batch_token(\n",
    "    data_set_used, datasets, num_shots=1, tokenizer=tokenizer, device=device,split= 'validation_matched'\n",
    ")\n"
   ]
  },
  {
   "cell_type": "code",
   "execution_count": 9,
   "metadata": {},
   "outputs": [
    {
     "data": {
      "text/plain": [
       "[{'context': 'Premise: you know during the season and i guess at at your level uh you lose them to the next level if if they decide to recall the the parent team the Braves decide to call to recall a guy from triple A then a double A guy goes up to replace him and a single A guy goes up to replace him,\\nHypothesis: You lose the things to the following level if the people recall.,\\nLabel: entailment\\n\\nPremise: One of our number will carry out your instructions minutely.,\\nHypothesis: A member of my team will execute your orders with immense precision.,\\nLabel: entailment\\n\\nPremise: How do you know? All this is their information again.,\\nHypothesis: This information belongs to them.,\\nLabel: \\n\\n',\n",
       "  'query': 'Label if this is entailment or contradiction.\\nPremise: How do you know? All this is their information again.,\\nHypothesis: This information belongs to them.,\\nLabel: \\n\\n'},\n",
       " {'context': \"Premise: my walkman broke so i'm upset now i just have to turn the stereo up real loud,\\nHypothesis: I'm upset that my walkman broke and now I have to turn the stereo up really loud.,\\nLabel: entailment\\n\\nPremise: (Read  for Slate 's take on Jackson's findings.),\\nHypothesis: Slate had an opinion on Jackson's findings.,\\nLabel: entailment\\n\\nPremise: Gays and lesbians.,\\nHypothesis: Heterosexuals.,\\nLabel: \\n\\n\",\n",
       "  'query': 'Label if this is entailment or contradiction.\\nPremise: Gays and lesbians.,\\nHypothesis: Heterosexuals.,\\nLabel: \\n\\n'},\n",
       " {'context': \"Premise: At the end of Rue des Francs-Bourgeois is what many consider to be the city's most handsome residential square, the Place des Vosges, with its stone and red brick facades.,\\nHypothesis: Place des Vosges is constructed entirely of gray marble.,\\nLabel: contradiction\\n\\nPremise: I burst through a set of cabin doors, and fell to the ground-,\\nHypothesis: I burst through the doors and fell down.,\\nLabel: entailment\\n\\nPremise: Fun for adults and children.,\\nHypothesis: Fun for only children.,\\nLabel: \\n\\n\",\n",
       "  'query': 'Label if this is entailment or contradiction.\\nPremise: Fun for adults and children.,\\nHypothesis: Fun for only children.,\\nLabel: \\n\\n'},\n",
       " {'context': \"Premise: I don't mean to be glib about your concerns, but if I were you, I might be more concerned about the near-term rate implications of this $1.,\\nHypothesis: I am concerned more about your issues than the near-term rate implications.,\\nLabel: contradiction\\n\\nPremise: Issues in Data Synthesis.,\\nHypothesis: Problems in data synthesis.,\\nLabel: entailment\\n\\nPremise: well you see that on television also,\\nHypothesis: You can see that on television, as well.,\\nLabel: \\n\\n\",\n",
       "  'query': 'Label if this is entailment or contradiction.\\nPremise: well you see that on television also,\\nHypothesis: You can see that on television, as well.,\\nLabel: \\n\\n'},\n",
       " {'context': 'Premise: Vrenna and I both fought him and he nearly took us.,\\nHypothesis: Neither Vrenna nor myself have ever fought him.,\\nLabel: contradiction\\n\\nPremise: This analysis pooled estimates from these two studies to develop a C-R function linking PM to chronic bronchitis.,\\nHypothesis: The analysis proves that there is no link between PM and bronchitis.,\\nLabel: contradiction\\n\\nPremise: We sought to identify practices that were commonly implemented by the agencies within the past 5 years.,\\nHypothesis: We want to identify practices commonly used by agencies in the last 5 years,\\nLabel: \\n\\n',\n",
       "  'query': 'Label if this is entailment or contradiction.\\nPremise: We sought to identify practices that were commonly implemented by the agencies within the past 5 years.,\\nHypothesis: We want to identify practices commonly used by agencies in the last 5 years,\\nLabel: \\n\\n'},\n",
       " {'context': \"Premise: The other men shuffled.,\\nHypothesis: The other men were shuffled around.,\\nLabel: entailment\\n\\nPremise: States must show reasonable progress in their state implementation plans toward the congressionally mandated goal of returning to natural conditions in national parks and wilderness areas.,\\nHypothesis: Itis not necessary for there to be any improvement.,\\nLabel: contradiction\\n\\nPremise: well it's been very interesting,\\nHypothesis: It has been very intriguing.,\\nLabel: \\n\\n\",\n",
       "  'query': \"Label if this is entailment or contradiction.\\nPremise: well it's been very interesting,\\nHypothesis: It has been very intriguing.,\\nLabel: \\n\\n\"},\n",
       " {'context': \"Premise: He started slowly back to the bunkhouse.,\\nHypothesis: He returned slowly to the bunkhouse.,\\nLabel: entailment\\n\\nPremise: They're made from a secret recipe handed down to the present-day villagers by their Mallorcan ancestors, who came here in the early 17th century as part of an official repopulation scheme.,\\nHypothesis: The recipe passed down from Mallorcan ancestors is known to everyone.,\\nLabel: contradiction\\n\\nPremise: it really is i heard something that their supposed to be starting a huge campaign in New York about um child abuse and stopping child abuse and it's supposed to be like it's starting there supposed to be like a big nationwide campaign and you know so hopefully that will take off and really do something i don't know there's just,\\nHypothesis: It's unfortunate that nobody is organizing a child abuse campaign.,\\nLabel: \\n\\n\",\n",
       "  'query': \"Label if this is entailment or contradiction.\\nPremise: it really is i heard something that their supposed to be starting a huge campaign in New York about um child abuse and stopping child abuse and it's supposed to be like it's starting there supposed to be like a big nationwide campaign and you know so hopefully that will take off and really do something i don't know there's just,\\nHypothesis: It's unfortunate that nobody is organizing a child abuse campaign.,\\nLabel: \\n\\n\"},\n",
       " {'context': 'Premise: Postal Service were to reduce delivery frequency.,\\nHypothesis: The postal service could deliver less frequently.,\\nLabel: entailment\\n\\nPremise: And in another shift in the economy, it was found that lamb could be raised more cost-effectively on lowland farms in part because of the richer, more nutritious grazing land available there and as a result Lakeland farms became less profitable.,\\nHypothesis: Another shift in the economy was found to be more nutritious.,\\nLabel: entailment\\n\\nPremise: The rule contains information collection requirements which will allow EPA to determine that detergent additives which are effective in controlling deposits are used and that emission control goals are realized.,\\nHypothesis: The rule has data collection requirements which aid the EPA to realize their emission control goals.,\\nLabel: \\n\\n',\n",
       "  'query': 'Label if this is entailment or contradiction.\\nPremise: The rule contains information collection requirements which will allow EPA to determine that detergent additives which are effective in controlling deposits are used and that emission control goals are realized.,\\nHypothesis: The rule has data collection requirements which aid the EPA to realize their emission control goals.,\\nLabel: \\n\\n'},\n",
       " {'context': \"Premise: Almost every hill has to the northeast there's a Moorish fort; no fewer than four ruined fortresses guard the harbour entrance; and two more, still in good repair the Atalaya and Galeras castles protect the sea-front arsenal, of vital importance to Spain's military.,\\nHypothesis: There are no castles Atalaya and Galeras.,\\nLabel: contradiction\\n\\nPremise: Felicia's Journey takes place behind the eyes of its central  a young Irish girl, Felicia, who crosses the sea to England in a hopeful quest to find the father of her unborn child; and the fat, middle-aged catering manager, Hiditch, who takes a paternal interest in the lass when it becomes clear that her young man has caddishly given her the slip.,\\nHypothesis: The woman did not care where the man was as long as it was far.,\\nLabel: contradiction\\n\\nPremise: In the crypt are interred the remains of Voltaire and Rousseau, Hugo and Zola, assassinated Socialist leader Jean Jaurys, and Louis Braille, the inventor of the alphabet for the blind.,\\nHypothesis: The remains of Voltaire and Rousseau, Hugo and Zola, assassinated Socialist leader Jean Jaurys, and Louis Braille are all interred in the crypt.,\\nLabel: \\n\\n\",\n",
       "  'query': 'Label if this is entailment or contradiction.\\nPremise: In the crypt are interred the remains of Voltaire and Rousseau, Hugo and Zola, assassinated Socialist leader Jean Jaurys, and Louis Braille, the inventor of the alphabet for the blind.,\\nHypothesis: The remains of Voltaire and Rousseau, Hugo and Zola, assassinated Socialist leader Jean Jaurys, and Louis Braille are all interred in the crypt.,\\nLabel: \\n\\n'},\n",
       " {'context': \"Premise: there's a uh a couple called um oh i'm going to forgot his name now uh Dirkson,\\nHypothesis: I can't remember their name,\\nLabel: entailment\\n\\nPremise: Poirot, I exclaimed, with relief, and seizing him by both hands, I dragged him into the room. ,\\nHypothesis: Poirot was now back and I was sorry that he would take over what I now considered my own investigation. ,\\nLabel: contradiction\\n\\nPremise: The word aswan actually means trade or market in ancient Egyptian, signifying its most pre-eminent activity.,\\nHypothesis: Aswan's meaning has not changed over time.,\\nLabel: \\n\\n\",\n",
       "  'query': \"Label if this is entailment or contradiction.\\nPremise: The word aswan actually means trade or market in ancient Egyptian, signifying its most pre-eminent activity.,\\nHypothesis: Aswan's meaning has not changed over time.,\\nLabel: \\n\\n\"},\n",
       " {'context': \"Premise: well what the market can bear and,\\nHypothesis: THe market can't bear any of it.,\\nLabel: contradiction\\n\\nPremise: And to show just how fast Japan's new rulers were catching on, two punitive expeditions were launched against Korea and China in the grand manner of 19th-century gunboat diplomacy.,\\nHypothesis: Japan's new rulers were catching on quickly.,\\nLabel: entailment\\n\\nPremise: These organizations invest the time and effort to understand their processes and how those processes contribute to or hamper mission accomplishment.,\\nHypothesis: These organizations invest lots of time to understand how some processes can contribute to or haampe,\\nLabel: \\n\\n\",\n",
       "  'query': 'Label if this is entailment or contradiction.\\nPremise: These organizations invest the time and effort to understand their processes and how those processes contribute to or hamper mission accomplishment.,\\nHypothesis: These organizations invest lots of time to understand how some processes can contribute to or haampe,\\nLabel: \\n\\n'},\n",
       " {'context': \"Premise: You have access to the facts. ,\\nHypothesis: The facts are accessible to you.,\\nLabel: entailment\\n\\nPremise: Build environment Engineering Manufacturing Production (all rate tooling) (1st set of production tooling),\\nHypothesis: It is the first set of production tooling for manufacturing.,\\nLabel: entailment\\n\\nPremise: As long you have your own household in order, fretting about your neighbor's spending habits is a lot like fretting about the color of his living-room rug.,\\nHypothesis: You should worry about the color of your neighbor's rug. ,\\nLabel: \\n\\n\",\n",
       "  'query': \"Label if this is entailment or contradiction.\\nPremise: As long you have your own household in order, fretting about your neighbor's spending habits is a lot like fretting about the color of his living-room rug.,\\nHypothesis: You should worry about the color of your neighbor's rug. ,\\nLabel: \\n\\n\"},\n",
       " {'context': \"Premise: yeah so um also of course they they can they join the they can always join the military service they are considered citizens i believe,\\nHypothesis: They can't join the military service,\\nLabel: contradiction\\n\\nPremise: According to the Office of the Actuary at the Health Care Financing Administration, the estimated net present value of future additional resources needed to fund HI benefits alone over the 75 years is $4.,\\nHypothesis: The net present value of future additional resources for funding HI benefits was $4.,\\nLabel: entailment\\n\\nPremise: Thus, with respect to the litigation services Congress has funded, there is no alternative channel for expression of the advocacy Congress seeks to restrict.,\\nHypothesis: This is the only channel of expression of the advocacy that Congress seeks to restrict.,\\nLabel: \\n\\n\",\n",
       "  'query': 'Label if this is entailment or contradiction.\\nPremise: Thus, with respect to the litigation services Congress has funded, there is no alternative channel for expression of the advocacy Congress seeks to restrict.,\\nHypothesis: This is the only channel of expression of the advocacy that Congress seeks to restrict.,\\nLabel: \\n\\n'},\n",
       " {'context': \"Premise: How do we fix this?',\\nHypothesis: Can we fix this?,\\nLabel: entailment\\n\\nPremise: but that takes too much planning,\\nHypothesis: It doesn't take much planning.,\\nLabel: contradiction\\n\\nPremise: it's slow it's uh there are many better machines on the market right now for,\\nHypothesis: This is the fastest machine, you won't find a better machine.,\\nLabel: \\n\\n\",\n",
       "  'query': \"Label if this is entailment or contradiction.\\nPremise: it's slow it's uh there are many better machines on the market right now for,\\nHypothesis: This is the fastest machine, you won't find a better machine.,\\nLabel: \\n\\n\"},\n",
       " {'context': 'Premise: Consider the United States Postal Service.,\\nHypothesis: Forget the United States Postal Service.,\\nLabel: contradiction\\n\\nPremise: Take a remarkable statistic that Shesol cites but lets pass relatively unexamined.,\\nHypothesis: They had data that was very relevant but under used.,\\nLabel: entailment\\n\\nPremise: It might have seemed like manna from heaven - up to thousands of dollars dropping, often unexpectedly, into the hands of a half-million Kentucky and Indiana residents this month.,\\nHypothesis: A recent law proposed by congress has resulted in the seizure of thousands of dollars from Kentucky residents.,\\nLabel: \\n\\n',\n",
       "  'query': 'Label if this is entailment or contradiction.\\nPremise: It might have seemed like manna from heaven - up to thousands of dollars dropping, often unexpectedly, into the hands of a half-million Kentucky and Indiana residents this month.,\\nHypothesis: A recent law proposed by congress has resulted in the seizure of thousands of dollars from Kentucky residents.,\\nLabel: \\n\\n'},\n",
       " {'context': \"Premise: Get individuals to invest their time and the funding will follow.,\\nHypothesis: If individuals will invest their time, funding will come along, too.,\\nLabel: entailment\\n\\nPremise: The man on the ground thinks for a moment and yells back, You must work in management.,\\nHypothesis: There was no one on the ground, man or woman.,\\nLabel: contradiction\\n\\nPremise: If, however, the evaluation question requires GAO to report on how satisfactory progress is or the reasons for problems in implementation, the more staff who can be on site over time, with the ricHe'st or thickest base for examining the situation as the many people involved see it, the sounder our causal conclusions and subsequent recommendations will be.,\\nHypothesis: If the GAO has to report on the progress, the recommendations will be much poorer quality.,\\nLabel: \\n\\n\",\n",
       "  'query': \"Label if this is entailment or contradiction.\\nPremise: If, however, the evaluation question requires GAO to report on how satisfactory progress is or the reasons for problems in implementation, the more staff who can be on site over time, with the ricHe'st or thickest base for examining the situation as the many people involved see it, the sounder our causal conclusions and subsequent recommendations will be.,\\nHypothesis: If the GAO has to report on the progress, the recommendations will be much poorer quality.,\\nLabel: \\n\\n\"},\n",
       " {'context': 'Premise: The economy could be still better.,\\nHypothesis: The economy has never been better.,\\nLabel: contradiction\\n\\nPremise: Hills and mountains are especially sanctified in the cult of Jainism.,\\nHypothesis: The cult of Jainism hates nature.,\\nLabel: contradiction\\n\\nPremise: The famous tenements (or lands ) began to be built.,\\nHypothesis: The land remained deserted.,\\nLabel: \\n\\n',\n",
       "  'query': 'Label if this is entailment or contradiction.\\nPremise: The famous tenements (or lands ) began to be built.,\\nHypothesis: The land remained deserted.,\\nLabel: \\n\\n'},\n",
       " {'context': \"Premise: Entreaties to the apartment's owner have gone nowhere.,\\nHypothesis: The apartment's owner is very responsive.,\\nLabel: contradiction\\n\\nPremise: Mrs. Cavendish is in her mother-in-law's room. ,\\nHypothesis: Mrs. Cavendish has left the building.,\\nLabel: contradiction\\n\\nPremise: But I thought you'd sworn off coffee.,\\nHypothesis: I thought that you vowed to drink more coffee.,\\nLabel: \\n\\n\",\n",
       "  'query': \"Label if this is entailment or contradiction.\\nPremise: But I thought you'd sworn off coffee.,\\nHypothesis: I thought that you vowed to drink more coffee.,\\nLabel: \\n\\n\"},\n",
       " {'context': \"Premise: We stink all the time.,\\nHypothesis: We always stink.,\\nLabel: entailment\\n\\nPremise: In an increasingly interdependent world, many pressing problems that affect Americans can be addressed only through cooperation with other countries.,\\nHypothesis: We should be independent and stay away from talking and working with other nations. ,\\nLabel: contradiction\\n\\nPremise: The rule requires broadcasters to maintain a file for public inspection containing a Children's Television Programming Report and to identify programs specifically designed to educate and inform children at the beginning of those programs and to furnish such information to the publishers of program guides.,\\nHypothesis: The rule makes broadcasters keep a file about children's television programming.,\\nLabel: \\n\\n\",\n",
       "  'query': \"Label if this is entailment or contradiction.\\nPremise: The rule requires broadcasters to maintain a file for public inspection containing a Children's Television Programming Report and to identify programs specifically designed to educate and inform children at the beginning of those programs and to furnish such information to the publishers of program guides.,\\nHypothesis: The rule makes broadcasters keep a file about children's television programming.,\\nLabel: \\n\\n\"},\n",
       " {'context': 'Premise: Each of the men wore leather armor and dressed in the style of heavy riders.,\\nHypothesis: The men were naked.,\\nLabel: contradiction\\n\\nPremise: The man should have died instantly.,\\nHypothesis: The man was perfectly fine. ,\\nLabel: contradiction\\n\\nPremise: In summer the rice forms a green velvety blanket, then turns golden in autumn when it ripens and is harvested.,\\nHypothesis: The rice is golden and harvestable in the summer, but turns green in autumn.,\\nLabel: \\n\\n',\n",
       "  'query': 'Label if this is entailment or contradiction.\\nPremise: In summer the rice forms a green velvety blanket, then turns golden in autumn when it ripens and is harvested.,\\nHypothesis: The rice is golden and harvestable in the summer, but turns green in autumn.,\\nLabel: \\n\\n'},\n",
       " {'context': \"Premise: Just as the Daily Worker and New Masses , socialist papers from the 1930s, were peppered with citations of Marx and Engels, Educational Liberator is peppered with references to their libertarian equivalents--Friedrich Hayek and Ludwig von Mises.,\\nHypothesis: Citations from Marx were used in socialist papers in the 30s. ,\\nLabel: entailment\\n\\nPremise: I'm not into this Multivista stuff, because what is some dumpy system when compared to a beautiful hyperextension of the sun somewhere over Kuchara, when compared to the golden hue of onion fried with the kse-fi waves, when compared to the number of dividers for credit membranes in a wallet of a rich man, when compared to the magnificent smell of a briessante roll dunked in wholesome milk synthetically enriched with substances boosting the secretion of happiness hormones, that one from two years ago, not three,' Gonzo said in a tone characteristic for a man who just discovered a solution to his life problem.,\\nHypothesis: He's not into this multivista stuff because what is some dumpy system compared to the magnificent smell of a cinnamon roll dunked in wholesome milk.,\\nLabel: entailment\\n\\nPremise: Clark also expressed the hope that he and Redgrave could continue with their marriage.,\\nHypothesis: Clark hoped that he could continue their marriage.,\\nLabel: \\n\\n\",\n",
       "  'query': 'Label if this is entailment or contradiction.\\nPremise: Clark also expressed the hope that he and Redgrave could continue with their marriage.,\\nHypothesis: Clark hoped that he could continue their marriage.,\\nLabel: \\n\\n'},\n",
       " {'context': \"Premise: The poverty, for instance, does not create the sense of shame as it does for people who live in Western countries.,\\nHypothesis: Poverty doesn't create a sense of shame in any country.,\\nLabel: contradiction\\n\\nPremise: which i mean i think it should be anyway,\\nHypothesis: I don't think it should be that way,\\nLabel: contradiction\\n\\nPremise: Also, compensation committees need to understand the implications of compensation to provide incentives for management to do the right thing for the company and its shareholders versus themselves.,\\nHypothesis: The implications of compensation to provide incentives for management to do the right thing for the company and its shareholders versus themselves should always be ignored by compensation committees.,\\nLabel: \\n\\n\",\n",
       "  'query': 'Label if this is entailment or contradiction.\\nPremise: Also, compensation committees need to understand the implications of compensation to provide incentives for management to do the right thing for the company and its shareholders versus themselves.,\\nHypothesis: The implications of compensation to provide incentives for management to do the right thing for the company and its shareholders versus themselves should always be ignored by compensation committees.,\\nLabel: \\n\\n'},\n",
       " {'context': \"Premise: The fourth-century Roman emperor Gratianus was an early visitor, followed much later by such luminaries as the Romantic poet Alphonse de Lamartine, Queen Victoria, Saint-Sa?«ns, and Rachmaninov.,\\nHypothesis: Gratianus was a Roman empoeror.,\\nLabel: entailment\\n\\nPremise: So, I went to court by myself and told them the truth, but it didn't do me any good.,\\nHypothesis: I went and told the truth at court but it didn't do me any good.,\\nLabel: entailment\\n\\nPremise: Click More Links (on the right-hand side under Miscellaneous), and from,\\nHypothesis: There are no links to click under Miscellaneous.,\\nLabel: \\n\\n\",\n",
       "  'query': 'Label if this is entailment or contradiction.\\nPremise: Click More Links (on the right-hand side under Miscellaneous), and from,\\nHypothesis: There are no links to click under Miscellaneous.,\\nLabel: \\n\\n'},\n",
       " {'context': \"Premise: no oh no oh well take care,\\nHypothesis: Bye for now.,\\nLabel: entailment\\n\\nPremise: 'Hello, Ben.',\\nHypothesis: I ignored Ben,\\nLabel: contradiction\\n\\nPremise: how can you prove it,\\nHypothesis: Can you tell me how to prove it?,\\nLabel: \\n\\n\",\n",
       "  'query': 'Label if this is entailment or contradiction.\\nPremise: how can you prove it,\\nHypothesis: Can you tell me how to prove it?,\\nLabel: \\n\\n'},\n",
       " {'context': \"Premise: It displays all kinds of vehicles, from the coach that carried Napoleon to and from Moscow in 1812 to a splendid 4-horsepower Renault car from 1904 and other turn-of-the-century classics.,\\nHypothesis: The exhibition only displays cars from the 2000s.,\\nLabel: contradiction\\n\\nPremise: According to this executive, the town hall meetings helped improve his customer satisfaction levels because veterans identified the concerns that were most important to them, gained direct access to the VBA employees working on their benefit claims, and were better able to understand the claims process.,\\nHypothesis: The own hall meetings helped improve his customer satisfaction levels, said the executive.,\\nLabel: entailment\\n\\nPremise: well see that isn't too bad  a couple hours,\\nHypothesis: I don't like waiting, not even for 10 minutes.,\\nLabel: \\n\\n\",\n",
       "  'query': \"Label if this is entailment or contradiction.\\nPremise: well see that isn't too bad  a couple hours,\\nHypothesis: I don't like waiting, not even for 10 minutes.,\\nLabel: \\n\\n\"},\n",
       " {'context': \"Premise: We have been told on reasonably high authority that true charity vaunteth not itself,\\nHypothesis: True charity vaunts itself, we have been told.,\\nLabel: contradiction\\n\\nPremise: The  With attorneys one year out of graduate school facing an average debt of just less than $90,000 and starting salaries at legal aid organizations averaging $31,000, they couldn't afford the job.,\\nHypothesis: New attorneys have massive law school debt.,\\nLabel: entailment\\n\\nPremise: Here you'll see a shrunken head, a two-headed goat, and a statue of Marilyn Monroe made of shredded money, among other curiosities.,\\nHypothesis: One of the curiosities is a two-headed goat.,\\nLabel: \\n\\n\",\n",
       "  'query': \"Label if this is entailment or contradiction.\\nPremise: Here you'll see a shrunken head, a two-headed goat, and a statue of Marilyn Monroe made of shredded money, among other curiosities.,\\nHypothesis: One of the curiosities is a two-headed goat.,\\nLabel: \\n\\n\"},\n",
       " {'context': \"Premise: Thursday's judge, the Honorable Charles Adams of the Coconino County Superior Court, agreed, but highly discouraged self-representation.,\\nHypothesis: Self-representation was encouraged by the Honorable Charles Adams.,\\nLabel: contradiction\\n\\nPremise: He mostly hangs out with a group of older, Southern black men, who call him Jumper and Black Cat.,\\nHypothesis: The group of guys he tends to hang out with gave him the nickname Jumper.,\\nLabel: entailment\\n\\nPremise: This elegant spa town on the edge of the Lac du Bourget has offered cures for rheumatism and other ailments for centuries.,\\nHypothesis: The town was only established in the past fifty years.,\\nLabel: \\n\\n\",\n",
       "  'query': 'Label if this is entailment or contradiction.\\nPremise: This elegant spa town on the edge of the Lac du Bourget has offered cures for rheumatism and other ailments for centuries.,\\nHypothesis: The town was only established in the past fifty years.,\\nLabel: \\n\\n'},\n",
       " {'context': \"Premise: right right well it's it's a beautiful city and but the problem is like first example when i was young they they took me to Las Vegas and that was the most boring place on earth,\\nHypothesis: I think Las Vegas is the most boring place I know.,\\nLabel: entailment\\n\\nPremise: 'Less loud.,\\nHypothesis: Please be quiet.,\\nLabel: entailment\\n\\nPremise: i'm going to be able to make my own clothes,\\nHypothesis: I will be able to make my own clothing.,\\nLabel: \\n\\n\",\n",
       "  'query': \"Label if this is entailment or contradiction.\\nPremise: i'm going to be able to make my own clothes,\\nHypothesis: I will be able to make my own clothing.,\\nLabel: \\n\\n\"},\n",
       " {'context': \"Premise: The river plays a central role in all visits to Paris.,\\nHypothesis: The river is central to all vacations to Paris.,\\nLabel: entailment\\n\\nPremise: they're supposed to be bilingual,\\nHypothesis: They're supposed to be bilingual ,\\nLabel: entailment\\n\\nPremise: Oh, Czarek, but will happen to us?,\\nHypothesis: Czarek was not asked any questions on that day.,\\nLabel: \\n\\n\",\n",
       "  'query': 'Label if this is entailment or contradiction.\\nPremise: Oh, Czarek, but will happen to us?,\\nHypothesis: Czarek was not asked any questions on that day.,\\nLabel: \\n\\n'},\n",
       " {'context': 'Premise: Turned out, I wasn\\'t completely wrong.,\\nHypothesis: I was 100 percent wrong. ,\\nLabel: contradiction\\n\\nPremise: Native  \\'Me win, me passum heap big law ...,\\nHypothesis: n/a,\\nLabel: contradiction\\n\\nPremise: In any case--it\\'s over.\"  ,\\nHypothesis: It is over.,\\nLabel: \\n\\n',\n",
       "  'query': 'Label if this is entailment or contradiction.\\nPremise: In any case--it\\'s over.\"  ,\\nHypothesis: It is over.,\\nLabel: \\n\\n'},\n",
       " {'context': \"Premise: The herbal extract shows success in treating mild dementia and preventing Alzheimer's memory loss.,\\nHypothesis: The herbal extract is not very good at treating dementia.  ,\\nLabel: contradiction\\n\\nPremise: That is why icons have the power they have.,\\nHypothesis: That is why God moves me.,\\nLabel: contradiction\\n\\nPremise: Critical to the product development process were activities that enabled the capture of specific design and manufacturing knowledge and decision reviews to determine if the knowledge captured would support the increased investment necessary to move to the next development phase or into production.,\\nHypothesis: The knowledge captured would determine if the next step was further development or production.,\\nLabel: \\n\\n\",\n",
       "  'query': 'Label if this is entailment or contradiction.\\nPremise: Critical to the product development process were activities that enabled the capture of specific design and manufacturing knowledge and decision reviews to determine if the knowledge captured would support the increased investment necessary to move to the next development phase or into production.,\\nHypothesis: The knowledge captured would determine if the next step was further development or production.,\\nLabel: \\n\\n'},\n",
       " {'context': \"Premise: Said I was foolishly proud. ,\\nHypothesis: My pride was foolish not well placed.,\\nLabel: entailment\\n\\nPremise: The word had filled his head as though the girl had whispered directly into both ears.,\\nHypothesis: The girl spoke very quietly. ,\\nLabel: entailment\\n\\nPremise: and a lot of their rules and regulations aren't real clear so we have our manager of environmental who assist the TACB which is located in Austin in writing and hey look what we've done here at TI,\\nHypothesis: There rules are not really clear so we ask our manager for help.,\\nLabel: \\n\\n\",\n",
       "  'query': \"Label if this is entailment or contradiction.\\nPremise: and a lot of their rules and regulations aren't real clear so we have our manager of environmental who assist the TACB which is located in Austin in writing and hey look what we've done here at TI,\\nHypothesis: There rules are not really clear so we ask our manager for help.,\\nLabel: \\n\\n\"},\n",
       " {'context': \"Premise: Among these are the red brick Royal Palace, which now houses the Patan Museum (Nepal's finest and most modern museum), and, facing the palace across the narrow brick plaza, eight temples of different styles and sizes.,\\nHypothesis: The Patan Museum is down the street from the red brick Royal Palace.,\\nLabel: contradiction\\n\\nPremise: yeah it's kind of like in Louisiana where that uh guy that's like a Ku Klux Klan member something got elected  kind of scary when you think about that,\\nHypothesis: A Ku Klux Klan member has been elected in Louisiana.,\\nLabel: entailment\\n\\nPremise: or at least they try and do something about it first,\\nHypothesis: They might at least try and do something about it first.,\\nLabel: \\n\\n\",\n",
       "  'query': 'Label if this is entailment or contradiction.\\nPremise: or at least they try and do something about it first,\\nHypothesis: They might at least try and do something about it first.,\\nLabel: \\n\\n'},\n",
       " {'context': \"Premise: i i'm i'm not really impressed with i mean i lived in Germany for three years i i was i'm not impressed with skiing now i like i like other you know winter sports but i'm not real thrilled about them,\\nHypothesis: I am not a big fan of winter sports.,\\nLabel: entailment\\n\\nPremise: It's a commitment to general education--a sequence of courses intended to develop critical thinking in a wide variety of disciplines--in opposition to early specialization.,\\nHypothesis: General education's focus is to develop students' critical thinking skills.,\\nLabel: entailment\\n\\nPremise: National saving represents resources available for investment to replace old factories and equipment and to buy more and better capital goods.,\\nHypothesis: Old factories and equipment were never replaces, even when there was national savings.,\\nLabel: \\n\\n\",\n",
       "  'query': 'Label if this is entailment or contradiction.\\nPremise: National saving represents resources available for investment to replace old factories and equipment and to buy more and better capital goods.,\\nHypothesis: Old factories and equipment were never replaces, even when there was national savings.,\\nLabel: \\n\\n'},\n",
       " {'context': \"Premise: Others complain that the superstars are over the hill, and are trotting out mediocre work.,\\nHypothesis: Nobody complains about the superstars.,\\nLabel: contradiction\\n\\nPremise: Collaboration with rigorous methodologists is important, but those collaborations have to focus on what can be accomplished specifically in the ED setting.,\\nHypothesis: Working with rigorous methodologists is important.,\\nLabel: entailment\\n\\nPremise: you know their demographic studies that they do that show you know that everybody's IQ has dropped dramatically  or something,\\nHypothesis: The studies showed their IQ increased quite a lot.,\\nLabel: \\n\\n\",\n",
       "  'query': \"Label if this is entailment or contradiction.\\nPremise: you know their demographic studies that they do that show you know that everybody's IQ has dropped dramatically  or something,\\nHypothesis: The studies showed their IQ increased quite a lot.,\\nLabel: \\n\\n\"},\n",
       " {'context': 'Premise: The union has about 4000 members in Canada.,\\nHypothesis: There are 100 members in the union that live in Canada.,\\nLabel: contradiction\\n\\nPremise: but then we started watching it and and like the new ones are pretty cool because because they got like uh like special like especially things that like fuck with your mind,\\nHypothesis: The new ones have things that can fuck with your mind.,\\nLabel: entailment\\n\\nPremise: In 2000, GNP was less than GDP because income receipts from the rest of the world were less than U.S. payments to the rest of the world.,\\nHypothesis: The US paid more to the rest of the world than the rest of the world received in income.,\\nLabel: \\n\\n',\n",
       "  'query': 'Label if this is entailment or contradiction.\\nPremise: In 2000, GNP was less than GDP because income receipts from the rest of the world were less than U.S. payments to the rest of the world.,\\nHypothesis: The US paid more to the rest of the world than the rest of the world received in income.,\\nLabel: \\n\\n'},\n",
       " {'context': 'Premise: Have you any tips to give us before we clear out?\",\\nHypothesis: Anything we should know?,\\nLabel: entailment\\n\\nPremise: and they keep taking more money from us yeah people and get and they don\\'t have any incentive to work if we\\'re just gonna take fifty percent of it,\\nHypothesis: People have a lot of incentive to work because they take home every penny earned.,\\nLabel: contradiction\\n\\nPremise: i guess the financial planners the training now we\\'ve had it for about four years here got our businesses and and and our life in line how to manage credit cards how to put away say for you know money markets and this kind of thing,\\nHypothesis: The financial planners do not assist people with issues related to credit cards.,\\nLabel: \\n\\n',\n",
       "  'query': \"Label if this is entailment or contradiction.\\nPremise: i guess the financial planners the training now we've had it for about four years here got our businesses and and and our life in line how to manage credit cards how to put away say for you know money markets and this kind of thing,\\nHypothesis: The financial planners do not assist people with issues related to credit cards.,\\nLabel: \\n\\n\"},\n",
       " {'context': \"Premise: Richardson's need to make Picasso into a serious artist and an honorable man (instead of the inspired poetic rascal he actually was) deforms, above all, his account of Picasso's relations with women, he writes.,\\nHypothesis: Picasso was a gentleman and not an inspired poetic rascal.,\\nLabel: contradiction\\n\\nPremise: oh um i talked to someone about San Antonio,\\nHypothesis: I spoke with someone about Dallas.,\\nLabel: contradiction\\n\\nPremise: Due to this rationalization of delivery cost in the U.S., the postal densities of the most sparsely populated areas are higher than the densities of the most sparsely populated areas of France.,\\nHypothesis: Postal density refers to the amount of junk mail delivered in a given area.,\\nLabel: \\n\\n\",\n",
       "  'query': 'Label if this is entailment or contradiction.\\nPremise: Due to this rationalization of delivery cost in the U.S., the postal densities of the most sparsely populated areas are higher than the densities of the most sparsely populated areas of France.,\\nHypothesis: Postal density refers to the amount of junk mail delivered in a given area.,\\nLabel: \\n\\n'},\n",
       " {'context': \"Premise: Races are held between April and December at the Veliefendi Hippodrome near Bakerky, 15 km (9 miles) west of Istanbul.,\\nHypothesis: There are races from April to December at Veliefendi Hippodrome.,\\nLabel: entailment\\n\\nPremise: The production of anhydrous ammonia in the U.S. in 2000 was approximately 17,400,000 tons (equivalent anhydrous) with apparent consumption of 22,000,000 tons and about 4,600,000 met through net imports, as shown in a 2001 edition of U.S.,\\nHypothesis: The US does not produce any anhydrous ammonia each year.,\\nLabel: contradiction\\n\\nPremise: uh it's but then there's so many people you get so many different opinions like well you shouldn't have well i shouldn't have to have to do this or i shouldn't have to do that and all this other stuff i don't want to get involved and,\\nHypothesis: Opinions tend to vary.,\\nLabel: \\n\\n\",\n",
       "  'query': \"Label if this is entailment or contradiction.\\nPremise: uh it's but then there's so many people you get so many different opinions like well you shouldn't have well i shouldn't have to have to do this or i shouldn't have to do that and all this other stuff i don't want to get involved and,\\nHypothesis: Opinions tend to vary.,\\nLabel: \\n\\n\"},\n",
       " {'context': \"Premise: Right on the waterfront; offers a more formal atmosphere and a great place to catch a sunset.,\\nHypothesis: It has a terrible view of the sunset.,\\nLabel: contradiction\\n\\nPremise: To be sure that any needlework item is the genuine article (as opposed to an inferior import or machine-made piece), look for a lead seal with an M, the emblem of IBTAM meaning it's been certified by the Instituto de Bordado, Tapecaras e Arte?\\xadsanato da Madeira (Institute of Madeiran Embroidery, Tapestry, and Handicrafts), an official island organization that has a showroom/museum on Rua Visconde de Anadia, 44.,\\nHypothesis: There is a seal to show authenticity. ,\\nLabel: entailment\\n\\nPremise: It will be a pleasure dressing Jane.,\\nHypothesis: Dressing Jane will be enjoyable.,\\nLabel: \\n\\n\",\n",
       "  'query': 'Label if this is entailment or contradiction.\\nPremise: It will be a pleasure dressing Jane.,\\nHypothesis: Dressing Jane will be enjoyable.,\\nLabel: \\n\\n'},\n",
       " {'context': \"Premise: Engakuji is Kamakura's largest temple complex; often wracked by fire and earthquake, 17 of the original 46 buildings have survived.,\\nHypothesis: None of the original buildings in Engakuji are still remaining.,\\nLabel: contradiction\\n\\nPremise: In applying this requirement, the following factors may influence the auditors' assessment of control ,\\nHypothesis: The influence of the following factors is possible.,\\nLabel: entailment\\n\\nPremise: do they live close by,\\nHypothesis: Is their house near here?,\\nLabel: \\n\\n\",\n",
       "  'query': 'Label if this is entailment or contradiction.\\nPremise: do they live close by,\\nHypothesis: Is their house near here?,\\nLabel: \\n\\n'},\n",
       " {'context': \"Premise: Now conservatives are fighting back.,\\nHypothesis: Conservatives are battling now.,\\nLabel: entailment\\n\\nPremise: There are good road connections between Sant Antoni and both CaleT?¡rida and CaleBadella, with the result that both bays have now been developed.,\\nHypothesis: With the good road connections, both bays have been developed.,\\nLabel: entailment\\n\\nPremise: and if you yeah if you want to so at least you you know you wouldn't have any surprises you can order any type of you know service you want but you stand a good chance you know having to pick up at least part of the bill yourself,\\nHypothesis: You may have to foot the bill if you order any service you want.,\\nLabel: \\n\\n\",\n",
       "  'query': \"Label if this is entailment or contradiction.\\nPremise: and if you yeah if you want to so at least you you know you wouldn't have any surprises you can order any type of you know service you want but you stand a good chance you know having to pick up at least part of the bill yourself,\\nHypothesis: You may have to foot the bill if you order any service you want.,\\nLabel: \\n\\n\"},\n",
       " {'context': 'Premise: Really, Sir Ernest, protested the judge, \"these questions are not relevant.\" Sir Ernest bowed, and having shot his arrow proceeded. ,\\nHypothesis: Sir Ernest bent his head slightly, and continued.,\\nLabel: entailment\\n\\nPremise: The house is surprisingly small and simple, with one bedroom, a tiny kitchen, and a couple of social rooms.,\\nHypothesis: The house is very large and boasts over ten bedrooms, a huge kitchen, and a full sized olympic pool.,\\nLabel: contradiction\\n\\nPremise: Fiction has its glories, but concealment is merely squalid.,\\nHypothesis: Hiding things is just dirty, whereas there is glory in fiction,\\nLabel: \\n\\n',\n",
       "  'query': 'Label if this is entailment or contradiction.\\nPremise: Fiction has its glories, but concealment is merely squalid.,\\nHypothesis: Hiding things is just dirty, whereas there is glory in fiction,\\nLabel: \\n\\n'},\n",
       " {'context': 'Premise: Are there children who need to be entertained?,\\nHypothesis: No children ever want to be entertained.,\\nLabel: contradiction\\n\\nPremise: Hopefully, Wall Street will take voluntary steps to address these issues before it is forced to act.,\\nHypothesis: Wall Street is facing issues, that need to be addressed. ,\\nLabel: entailment\\n\\nPremise: okay pro football i like two teams one the New York Giants and the second is the Raiders,\\nHypothesis: The New York Giants and Raiders are my favorite teams in football.,\\nLabel: \\n\\n',\n",
       "  'query': 'Label if this is entailment or contradiction.\\nPremise: okay pro football i like two teams one the New York Giants and the second is the Raiders,\\nHypothesis: The New York Giants and Raiders are my favorite teams in football.,\\nLabel: \\n\\n'},\n",
       " {'context': \"Premise: yeah it's strange because well it it's not strange because i use to be the same way and i'm even to this day  you know some vegetables really turn me off but when you read so much information that says this is a healthier way to go you know and this is what your body wants this is what your body really needs and when you think about what is what's the real reason your eating i know i know it's for taste because i'm boy am i a taste person but,\\nHypothesis: i'm a taste person and all vegetables taste very nice unlike other types of food,\\nLabel: contradiction\\n\\nPremise: in public places there is one state that does that by the way,\\nHypothesis: in public places there are absolutely no place that does that,\\nLabel: contradiction\\n\\nPremise: uh stick on those things and they can just all that's all they have to do i mean that wouldn't cost a great deal of money and uh,\\nHypothesis: It wouldn't cost them much money to just stick on those things.,\\nLabel: \\n\\n\",\n",
       "  'query': \"Label if this is entailment or contradiction.\\nPremise: uh stick on those things and they can just all that's all they have to do i mean that wouldn't cost a great deal of money and uh,\\nHypothesis: It wouldn't cost them much money to just stick on those things.,\\nLabel: \\n\\n\"},\n",
       " {'context': \"Premise: On the mainland, an invasion of even greater significance followed in 1580, when Philip II of Spain proclaimed himself king of Portugal and marched his armies across the border.,\\nHypothesis: Philip II of Spain invaded Portugal.,\\nLabel: entailment\\n\\nPremise: This involves a morning or afternoon of theory and shallow-water work, giving you an opportunity to try out the basic techniques before committing yourself a full open-water course.,\\nHypothesis: You won't get a chance to try out basic techniques with theory or anything.,\\nLabel: contradiction\\n\\nPremise: Initiatives completed under Phase I of the Plan include the ,\\nHypothesis: There is no Phase 1 of the plan as it will all be conducted in one step.,\\nLabel: \\n\\n\",\n",
       "  'query': 'Label if this is entailment or contradiction.\\nPremise: Initiatives completed under Phase I of the Plan include the ,\\nHypothesis: There is no Phase 1 of the plan as it will all be conducted in one step.,\\nLabel: \\n\\n'},\n",
       " {'context': \"Premise: yeah well i'm well i'm definitely for it,\\nHypothesis: I am certainly in agreement with it.,\\nLabel: entailment\\n\\nPremise: yeah yeah glad to see y'all taken care of well the i think what changed everything and uh is uh y'all were y'all the only ones that make any money for TI here in the last two years,\\nHypothesis: In the past few years, no one has made any money for TI.,\\nLabel: contradiction\\n\\nPremise: But what he means by what he shows is anybody's guess.,\\nHypothesis: His presentation was extremely clear.,\\nLabel: \\n\\n\",\n",
       "  'query': \"Label if this is entailment or contradiction.\\nPremise: But what he means by what he shows is anybody's guess.,\\nHypothesis: His presentation was extremely clear.,\\nLabel: \\n\\n\"},\n",
       " {'context': 'Premise: you know and held over for trial,\\nHypothesis: Released and no trial.,\\nLabel: contradiction\\n\\nPremise: I tipped it upside down.,\\nHypothesis: I turned it over.,\\nLabel: entailment\\n\\nPremise: Continue along this road to reach the pretty coastal town of Molyvos (also known by its ancient name, Mithymna), a popular spot for tourists.,\\nHypothesis: Molyvos is a run down town in the center of the region, not popular at all with tourists.,\\nLabel: \\n\\n',\n",
       "  'query': 'Label if this is entailment or contradiction.\\nPremise: Continue along this road to reach the pretty coastal town of Molyvos (also known by its ancient name, Mithymna), a popular spot for tourists.,\\nHypothesis: Molyvos is a run down town in the center of the region, not popular at all with tourists.,\\nLabel: \\n\\n'},\n",
       " {'context': 'Premise: For a screening test, high sensitivity is the most desirable parameter.,\\nHypothesis: They wanted to have low sensitivity. ,\\nLabel: contradiction\\n\\nPremise: What involvement did other key players have in connection with these accountability failures?,\\nHypothesis: Nobody was concerned about the failures.,\\nLabel: contradiction\\n\\nPremise: In the violet shade of morning, Ca\\'daan saw Adrin standing on the dunes in sword practice.,\\nHypothesis: Adrin was lost in the night as a swordsman chased after him that many knew as \"Ca\\'daan\".,\\nLabel: \\n\\n',\n",
       "  'query': 'Label if this is entailment or contradiction.\\nPremise: In the violet shade of morning, Ca\\'daan saw Adrin standing on the dunes in sword practice.,\\nHypothesis: Adrin was lost in the night as a swordsman chased after him that many knew as \"Ca\\'daan\".,\\nLabel: \\n\\n'},\n",
       " {'context': \"Premise: Southeast of Saint-Jean-de-Luz is Ascain, with a village square surrounded by enchanting 17th-century houses and a typical wooden-galleried church.,\\nHypothesis: The church was built in the 20th century.,\\nLabel: contradiction\\n\\nPremise: He distinctly said you were to repair the sky.,\\nHypothesis: He only muttered something about splitting the sky.,\\nLabel: contradiction\\n\\nPremise: Lorenzo the Magnificent and brother Giuliano lie in simple tombs beneath the sculptor's Madonna and Child, flanked by lesser artists' statues of the family patron saints Cosmas and Damian.,\\nHypothesis: Lorenzo and Giuliano were related to one another.,\\nLabel: \\n\\n\",\n",
       "  'query': \"Label if this is entailment or contradiction.\\nPremise: Lorenzo the Magnificent and brother Giuliano lie in simple tombs beneath the sculptor's Madonna and Child, flanked by lesser artists' statues of the family patron saints Cosmas and Damian.,\\nHypothesis: Lorenzo and Giuliano were related to one another.,\\nLabel: \\n\\n\"},\n",
       " {'context': 'Premise: They watched me constantly for weeks.,\\nHypothesis: They left me on my own for weeks.,\\nLabel: contradiction\\n\\nPremise: It has a staff of about 100 employees, including attorneys and support staff, in 10 branch offices.,\\nHypothesis: The 10 branches had close to 100 employees.,\\nLabel: entailment\\n\\nPremise: First we applied three alternative concentrationresponse (C-R) functions to estimate premature mortality incidence.,\\nHypothesis: No CR functions were applied to the incidence. ,\\nLabel: \\n\\n',\n",
       "  'query': 'Label if this is entailment or contradiction.\\nPremise: First we applied three alternative concentrationresponse (C-R) functions to estimate premature mortality incidence.,\\nHypothesis: No CR functions were applied to the incidence. ,\\nLabel: \\n\\n'},\n",
       " {'context': \"Premise: All we've done is checked that the first two creditors divided their collective share of $125 appropriately,\\nHypothesis: The first two creditors divided their shares correctly.,\\nLabel: entailment\\n\\nPremise: However, little evidence remains of that era some ceramics in the museum, a few fortifications, a network of irrigation ditches.,\\nHypothesis: There is little evidence left of that era.,\\nLabel: entailment\\n\\nPremise: , chief knowledge officers or chief technical officers) that diffuse responsibility across several senior-level managers.,\\nHypothesis: Chief officers often spread their responsibility among senior-level managers. ,\\nLabel: \\n\\n\",\n",
       "  'query': 'Label if this is entailment or contradiction.\\nPremise: , chief knowledge officers or chief technical officers) that diffuse responsibility across several senior-level managers.,\\nHypothesis: Chief officers often spread their responsibility among senior-level managers. ,\\nLabel: \\n\\n'},\n",
       " {'context': \"Premise: The smart Annie was not in evidence.,\\nHypothesis: The clever Annie was not in proof.,\\nLabel: entailment\\n\\nPremise: At the heart of the sanctuary, a small granite shrine once held the sacred barque of Horus himself.,\\nHypothesis: Horus has a shrine.,\\nLabel: entailment\\n\\nPremise: Postal Service's domestic rates for First-Class and Priority Mail to the inbound mail distribution described above.,\\nHypothesis: Usps domestic rates for priority and first class mail ate described above. ,\\nLabel: \\n\\n\",\n",
       "  'query': \"Label if this is entailment or contradiction.\\nPremise: Postal Service's domestic rates for First-Class and Priority Mail to the inbound mail distribution described above.,\\nHypothesis: Usps domestic rates for priority and first class mail ate described above. ,\\nLabel: \\n\\n\"},\n",
       " {'context': 'Premise: do you like um any rock and roll at all,\\nHypothesis: So you don\\'t like rock and roll?,\\nLabel: contradiction\\n\\nPremise: Dining room, grill, pub.,\\nHypothesis: It has a dining room but no grill.,\\nLabel: contradiction\\n\\nPremise: What have you, my friend, he cried, \"that you remain there like, how do you say it?, ah, yes, the stuck pig?\" I explained that I was afraid of obliterating any foot-marks. ,\\nHypothesis: I didn\\'t say anything when he asked me that question.,\\nLabel: \\n\\n',\n",
       "  'query': 'Label if this is entailment or contradiction.\\nPremise: What have you, my friend, he cried, \"that you remain there like, how do you say it?, ah, yes, the stuck pig?\" I explained that I was afraid of obliterating any foot-marks. ,\\nHypothesis: I didn\\'t say anything when he asked me that question.,\\nLabel: \\n\\n'},\n",
       " {'context': \"Premise: But you will find fishermen, many of whom are direct descendants of some 600 Genoese mercenaries King Charles III rescued from captivity on Tunisia's Tabarka Island, hence the name.,\\nHypothesis: Tabarka Island is part of Turkey.,\\nLabel: contradiction\\n\\nPremise: Unbar, Francisco! he called in Spanish.,\\nHypothesis: He call Francisco in Spanish.,\\nLabel: entailment\\n\\nPremise: The Commission is unwilling to recommend an interpretation of the statute that produces such consequences, absent an express congressional intent that such burdens be imposed.,\\nHypothesis: Unless congress expresses an intent that such burdens be imposed, the Commission is unwilling to recommend an interpretation of the statute that produces such consequences.,\\nLabel: \\n\\n\",\n",
       "  'query': 'Label if this is entailment or contradiction.\\nPremise: The Commission is unwilling to recommend an interpretation of the statute that produces such consequences, absent an express congressional intent that such burdens be imposed.,\\nHypothesis: Unless congress expresses an intent that such burdens be imposed, the Commission is unwilling to recommend an interpretation of the statute that produces such consequences.,\\nLabel: \\n\\n'},\n",
       " {'context': \"Premise: My wife and daughter are the ones doing Riley.,\\nHypothesis: My grandmother and grandmother's lesbian lover are doing Riley.,\\nLabel: contradiction\\n\\nPremise: Laibson's imperfect altruists face a far subtler problem--they're not just weighing costs and benefits, they're engaged in games of strategy against their future selves.,\\nHypothesis: Laibson has selfish people that follow him.,\\nLabel: contradiction\\n\\nPremise: 'But if they catch me...',\\nHypothesis: But if they kill me,\\nLabel: \\n\\n\",\n",
       "  'query': \"Label if this is entailment or contradiction.\\nPremise: 'But if they catch me...',\\nHypothesis: But if they kill me,\\nLabel: \\n\\n\"},\n",
       " {'context': \"Premise: The win brought tears to her eyes, of course, and prompted a phone call to Mom in India.,\\nHypothesis: She called her father after she lost, smiling as she did it.,\\nLabel: contradiction\\n\\nPremise: The New York Times ' Janet Maslin says the film works precisely because it is derivative--its stars, Matt Dillon and Gary Sinise, emulate the characters in The Usual Suspects , which gives them extraordinary opportunities to preen.,\\nHypothesis: The movie stars Matt Dillon and Gary Sinise.,\\nLabel: entailment\\n\\nPremise: The Muslim campaign for Partition was led by London-trained Bombay lawyer, Muhammad Ali Jinnah.,\\nHypothesis: Muhammad Ali Jinnah went to London to campaign for Partition. ,\\nLabel: \\n\\n\",\n",
       "  'query': 'Label if this is entailment or contradiction.\\nPremise: The Muslim campaign for Partition was led by London-trained Bombay lawyer, Muhammad Ali Jinnah.,\\nHypothesis: Muhammad Ali Jinnah went to London to campaign for Partition. ,\\nLabel: \\n\\n'},\n",
       " {'context': \"Premise: it's um it's it's amazingly less expensive than it is,\\nHypothesis: It's much more expensive that way.,\\nLabel: contradiction\\n\\nPremise: probably so probably so um-hum,\\nHypothesis: probably yes so uh-huh,\\nLabel: entailment\\n\\nPremise: well they all come back from from the bottom,\\nHypothesis: They bounce back from the bottom.,\\nLabel: \\n\\n\",\n",
       "  'query': 'Label if this is entailment or contradiction.\\nPremise: well they all come back from from the bottom,\\nHypothesis: They bounce back from the bottom.,\\nLabel: \\n\\n'},\n",
       " {'context': 'Premise: and i was never in a minor league city until i came Dallas we were a minor league city when i came here in fifty nine and i immediately bought season tickets uh to the class triple A uh uh Dallas Rangers,\\nHypothesis: Dallas was always in the majors.,\\nLabel: contradiction\\n\\nPremise: Just a hunch.,\\nHypothesis: It is just a guess,\\nLabel: entailment\\n\\nPremise: The SPAN  A Guide to Legal Services Planning.,\\nHypothesis: The SPAN A guide is a guide used for legal service planning.,\\nLabel: \\n\\n',\n",
       "  'query': 'Label if this is entailment or contradiction.\\nPremise: The SPAN  A Guide to Legal Services Planning.,\\nHypothesis: The SPAN A guide is a guide used for legal service planning.,\\nLabel: \\n\\n'},\n",
       " {'context': \"Premise: yeah i think they did a pretty good job but  they didn't follow it exactly but they did give it you know do it justice,\\nHypothesis: They made a good rendition.,\\nLabel: entailment\\n\\nPremise: The Citizens of the United States of America have a right to applaud themselves for having given to mankind examples of an enlarged and liberal  a policy worthy of imitation.,\\nHypothesis: The citizens of the U.S. are supposed to be proud of themselves.,\\nLabel: entailment\\n\\nPremise: She always says the right thing, does the right thing, wears the right clothes.,\\nHypothesis: She does, says, and wears everything perfectly, consistently. ,\\nLabel: \\n\\n\",\n",
       "  'query': 'Label if this is entailment or contradiction.\\nPremise: She always says the right thing, does the right thing, wears the right clothes.,\\nHypothesis: She does, says, and wears everything perfectly, consistently. ,\\nLabel: \\n\\n'},\n",
       " {'context': \"Premise: Leave the river briefly to loop east around Talcy, with its Romanesque church and the 13th-century chateau of Thizy, before ending your trip at Montr??al.,\\nHypothesis: It is recommended that you leave river briefly before ending your trip at Montréal.,\\nLabel: entailment\\n\\nPremise: yeah and i you know i think defense really is what wins wins uh in the long run you can have the best half back there is or the best quarterback but if they don't have any blocking maybe they can't do anything,\\nHypothesis: I think a good defense is the most important thing you need to win games.,\\nLabel: entailment\\n\\nPremise: 'You killed Derry.',\\nHypothesis: Derry is still alive. ,\\nLabel: \\n\\n\",\n",
       "  'query': \"Label if this is entailment or contradiction.\\nPremise: 'You killed Derry.',\\nHypothesis: Derry is still alive. ,\\nLabel: \\n\\n\"},\n",
       " {'context': \"Premise: Twelve days later, I made my second.,\\nHypothesis: It took twelve days to make another.,\\nLabel: entailment\\n\\nPremise: The number of Arawak had already fallen dramatically, so the Spanish began to import slaves from Africa to work the land; the first Africans arrived in 1517.,\\nHypothesis: The Spanish had plenty of Arawak to use as slaves.,\\nLabel: contradiction\\n\\nPremise: and enjoy nature and uh kind of wipe out the stress of everyday life i'd always,\\nHypothesis: I like to get out in nature and de-stress.,\\nLabel: \\n\\n\",\n",
       "  'query': \"Label if this is entailment or contradiction.\\nPremise: and enjoy nature and uh kind of wipe out the stress of everyday life i'd always,\\nHypothesis: I like to get out in nature and de-stress.,\\nLabel: \\n\\n\"},\n",
       " {'context': 'Premise: but i i don\\'t ever feel the need to dress that warmly i i don\\'t have to travel that far to work uh what what what what about uh your clothes in the winter time up there,\\nHypothesis: I have to catch a plane to go to work.,\\nLabel: contradiction\\n\\nPremise: Mrs. Vandemeyer, she read, \"20 South Audley Mansions.,\\nHypothesis: \"20 South Audley Mansions\" is a book that Mrs. Vandemeyer read.,\\nLabel: entailment\\n\\nPremise: Traditionally a poor island, the native population has happily embraced the new seasonal lifestyle that has brought them proserity, and the old ways have almost completely disappeared.,\\nHypothesis: The old ways of the native population has almost completely faded away.,\\nLabel: \\n\\n',\n",
       "  'query': 'Label if this is entailment or contradiction.\\nPremise: Traditionally a poor island, the native population has happily embraced the new seasonal lifestyle that has brought them proserity, and the old ways have almost completely disappeared.,\\nHypothesis: The old ways of the native population has almost completely faded away.,\\nLabel: \\n\\n'},\n",
       " {'context': 'Premise: The component may also be a contractor.,\\nHypothesis: They were prohibited from being a contractor.,\\nLabel: contradiction\\n\\nPremise: a plausible increase in the penetration of computer ownership by households over the course of a single year.,\\nHypothesis: Computer ownership by households usually increases in a year.,\\nLabel: entailment\\n\\nPremise: You and Tuppence have been sticking together like Siamese twins.,\\nHypothesis: You and Tuppence have been hand in glove.,\\nLabel: \\n\\n',\n",
       "  'query': 'Label if this is entailment or contradiction.\\nPremise: You and Tuppence have been sticking together like Siamese twins.,\\nHypothesis: You and Tuppence have been hand in glove.,\\nLabel: \\n\\n'},\n",
       " {'context': 'Premise: Below the Rond-Point, the mood changes and a pleasant park leads you past two the Petit Palais, all steel and glass, and the Grand Palais.,\\nHypothesis: The mood changes below the Rond-Point, and a pleasant park leads you past two the Petit Palais, all steel and glass, and the Grand Palais.,\\nLabel: entailment\\n\\nPremise: AUTHORIZING AND APPROVING ,\\nHypothesis: Granting permission.,\\nLabel: entailment\\n\\nPremise: However, I believe that additional actions by the board and AICPA management will be needed to restore trust and confidence in the Institute over the longer-term.,\\nHypothesis: Trust and confidence in the Institute have been lost forever.,\\nLabel: \\n\\n',\n",
       "  'query': 'Label if this is entailment or contradiction.\\nPremise: However, I believe that additional actions by the board and AICPA management will be needed to restore trust and confidence in the Institute over the longer-term.,\\nHypothesis: Trust and confidence in the Institute have been lost forever.,\\nLabel: \\n\\n'},\n",
       " {'context': 'Premise: Every tube contained a body, and every body was a famous figure from history.,\\nHypothesis: The tubes held everyday people.,\\nLabel: contradiction\\n\\nPremise: Four sikhara domes rise above the entrance-porch in addition the mandapa hall for worshippers; a larger hall for dancing-girls; and the inner sanctuary, surrounded by an ambulatory for walking around the image of the deity.,\\nHypothesis: Visitors are not permitted to walk around the image of the deity, but must sit quietly in front of it.,\\nLabel: contradiction\\n\\nPremise: oh was that good i heard oh okay,\\nHypothesis: Yes, I heard that was really good.,\\nLabel: \\n\\n',\n",
       "  'query': 'Label if this is entailment or contradiction.\\nPremise: oh was that good i heard oh okay,\\nHypothesis: Yes, I heard that was really good.,\\nLabel: \\n\\n'},\n",
       " {'context': \"Premise: The only adult males allowed in the Harem were the Black Eunuchs, who were in charge of security and administration.,\\nHypothesis: The Black Eunuchs were responsible for the security and administration of the Harem.,\\nLabel: entailment\\n\\nPremise: Due to the amount of information now available, power has shifted from the physician to the patient.,\\nHypothesis: Doctors have more power than ever thanks to better data availability.,\\nLabel: contradiction\\n\\nPremise: i know i am um i don't know anybody in their right mind that says that that i'm doing it because i want to i,\\nHypothesis: I know there are people who think I'm doing it because I desire to.,\\nLabel: \\n\\n\",\n",
       "  'query': \"Label if this is entailment or contradiction.\\nPremise: i know i am um i don't know anybody in their right mind that says that that i'm doing it because i want to i,\\nHypothesis: I know there are people who think I'm doing it because I desire to.,\\nLabel: \\n\\n\"},\n",
       " {'context': \"Premise: Isn't that America's last bastion of mobsters, racists, and hacks?,\\nHypothesis: It's America's first wave of racists. ,\\nLabel: contradiction\\n\\nPremise: There is also an archaeological museum that displays older relics, including examples of Mycenaean pottery.,\\nHypothesis: The museum is completely empty and doesn't have anything in it.,\\nLabel: contradiction\\n\\nPremise: There are nonetheless a number of practices and alternative strategies that senior executives in leading organizations use to help define and institute their CIO positions to effectively meet business needs.,\\nHypothesis: There are no practices and strategies that can help CIO positions to meet business needs at the moment.,\\nLabel: \\n\\n\",\n",
       "  'query': 'Label if this is entailment or contradiction.\\nPremise: There are nonetheless a number of practices and alternative strategies that senior executives in leading organizations use to help define and institute their CIO positions to effectively meet business needs.,\\nHypothesis: There are no practices and strategies that can help CIO positions to meet business needs at the moment.,\\nLabel: \\n\\n'},\n",
       " {'context': 'Premise: Perhaps he should clear out even farther and head for California.,\\nHypothesis: Maybe he should head for California to clear out even farther?,\\nLabel: entailment\\n\\nPremise: For the moment, he sought refuge in retreat, and left the room precipitately. ,\\nHypothesis: He stayed put and sat on the floor.,\\nLabel: contradiction\\n\\nPremise: In June you can watch dealers haggling over heaps of white silkworm cocoons.,\\nHypothesis: During the summer months dealers barter for piles of silkworm cocoons.,\\nLabel: \\n\\n',\n",
       "  'query': 'Label if this is entailment or contradiction.\\nPremise: In June you can watch dealers haggling over heaps of white silkworm cocoons.,\\nHypothesis: During the summer months dealers barter for piles of silkworm cocoons.,\\nLabel: \\n\\n'},\n",
       " {'context': \"Premise: The results looked like Versace melded with Blade Runner , says Newsweek 's Steven Levy.,\\nHypothesis: Steven Levy has never seen Blade Runner.,\\nLabel: contradiction\\n\\nPremise: uh you know if you have a large acid spill you know well gee maybe you better check this person who's handling all these acids you know i work with a wafer fab so we do a lot with chemicals and acids and,\\nHypothesis: Acid is handled by workers. ,\\nLabel: entailment\\n\\nPremise: The bourgeoisie showed off its new prosperity with extravagant furnishings, silks, satins, and baubles, and in 1852 Paris opened its first department store, Au Bon Marche.,\\nHypothesis: Paris opened the first department store.,\\nLabel: \\n\\n\",\n",
       "  'query': 'Label if this is entailment or contradiction.\\nPremise: The bourgeoisie showed off its new prosperity with extravagant furnishings, silks, satins, and baubles, and in 1852 Paris opened its first department store, Au Bon Marche.,\\nHypothesis: Paris opened the first department store.,\\nLabel: \\n\\n'},\n",
       " {'context': \"Premise: He waited for the group on the nearby 18 th green to finish.,\\nHypothesis: He was patient while hte group on the 18th hole finished.,\\nLabel: entailment\\n\\nPremise: i think so i don't know i just uh i'm unhappy with it but and well i'm i'm sort of semi fortunate right now i'm a graduate student so i don't make that much what i make isn't taxed very highly because i'm still in school,\\nHypothesis: I have never been a college student.,\\nLabel: contradiction\\n\\nPremise: He thought about ways to achieve this life goal for a long time, which means until he learned the basics of text editing, which happened at his first job at a firm trading in plastic bags landfill disposal permits.,\\nHypothesis: He thought about ways to achieve his life goals for a long time.,\\nLabel: \\n\\n\",\n",
       "  'query': 'Label if this is entailment or contradiction.\\nPremise: He thought about ways to achieve this life goal for a long time, which means until he learned the basics of text editing, which happened at his first job at a firm trading in plastic bags landfill disposal permits.,\\nHypothesis: He thought about ways to achieve his life goals for a long time.,\\nLabel: \\n\\n'},\n",
       " {'context': \"Premise: Kofukuji's many surviving artworks and artifacts are housed in its newest building, the Museum of National Treasures, a fireproof repository built in 1958 to honor Kofukuji's immense cultural and historic importance.,\\nHypothesis: The fireproof repository built in 1958 is considered to be enough to protect the artifacts.,\\nLabel: entailment\\n\\nPremise: The Inglethorps did not appear. ,\\nHypothesis: The Inglethorps were the first ones to turn up.,\\nLabel: contradiction\\n\\nPremise: There's a sort of bidding war going on, with law schools offering ever-increasing financial packages -- most of it loans, said Dean Glen. ,\\nHypothesis: No one really cares about the new students coming to their institutions. ,\\nLabel: \\n\\n\",\n",
       "  'query': \"Label if this is entailment or contradiction.\\nPremise: There's a sort of bidding war going on, with law schools offering ever-increasing financial packages -- most of it loans, said Dean Glen. ,\\nHypothesis: No one really cares about the new students coming to their institutions. ,\\nLabel: \\n\\n\"},\n",
       " {'context': \"Premise: You're mad.,\\nHypothesis: You are still sane.,\\nLabel: contradiction\\n\\nPremise: Inside, a huge mountain of a man, even bigger than Thorn, fought with a huge two-handed axe.,\\nHypothesis: The man was extremely large. ,\\nLabel: entailment\\n\\nPremise: Jon had only seen two people move that fast in his life,\\nHypothesis: Jon knew at least 500 people with the same speed.,\\nLabel: \\n\\n\",\n",
       "  'query': 'Label if this is entailment or contradiction.\\nPremise: Jon had only seen two people move that fast in his life,\\nHypothesis: Jon knew at least 500 people with the same speed.,\\nLabel: \\n\\n'},\n",
       " {'context': \"Premise: We developed technical assistance funds for creative planning projects and obtained a $15.,\\nHypothesis: No technical assistance funds for creative projects were developed.,\\nLabel: contradiction\\n\\nPremise: 5 billion, but households' wealth declined by nearly $842 billion (2 percent) largely as a result of the drop in the market value of households' stock holdings.,\\nHypothesis: The value of households' stock holdings dropped and this contributed to a decline in household wealth.,\\nLabel: entailment\\n\\nPremise: Auditors will need to exercise professional judgment in assessing the significance of audit results or findings.,\\nHypothesis: Auditors are not responsible for the assessment of audit results.,\\nLabel: \\n\\n\",\n",
       "  'query': 'Label if this is entailment or contradiction.\\nPremise: Auditors will need to exercise professional judgment in assessing the significance of audit results or findings.,\\nHypothesis: Auditors are not responsible for the assessment of audit results.,\\nLabel: \\n\\n'},\n",
       " {'context': \"Premise: Although a great deal of attention has been paid to the wealth effect from the stock market boom of the 1990s, half of American households did not own stocks as of 1998, according to the 1998 Survey of Consumer Finance.,\\nHypothesis: There was no stock market boom in the 1990s. ,\\nLabel: contradiction\\n\\nPremise: Where's Tommy? ,\\nHypothesis: Do you know where Tommy is?,\\nLabel: entailment\\n\\nPremise: Moreover, the realignment will help us to enhance our longterm capacity by improving recruitment and retention; building a succession plan; focusing on emerging issues; and leveraging technology opportunities for improvements to clients, processes, and employees.,\\nHypothesis: Long term capacity will be improved by the realignment.,\\nLabel: \\n\\n\",\n",
       "  'query': 'Label if this is entailment or contradiction.\\nPremise: Moreover, the realignment will help us to enhance our longterm capacity by improving recruitment and retention; building a succession plan; focusing on emerging issues; and leveraging technology opportunities for improvements to clients, processes, and employees.,\\nHypothesis: Long term capacity will be improved by the realignment.,\\nLabel: \\n\\n'},\n",
       " {'context': \"Premise: The lot upon which it is being built had been vacant.,\\nHypothesis: The lot had been vacant.,\\nLabel: entailment\\n\\nPremise: that if i were living in Mexico and trying to raise several children and i could see across the border where the good life would be for my children,\\nHypothesis: I believe Mexico is the best place to raise children.,\\nLabel: contradiction\\n\\nPremise: Or he hasn't really thought it through, which itself would cast doubt on the depth of his faith.,\\nHypothesis: His faith may be lacking.,\\nLabel: \\n\\n\",\n",
       "  'query': \"Label if this is entailment or contradiction.\\nPremise: Or he hasn't really thought it through, which itself would cast doubt on the depth of his faith.,\\nHypothesis: His faith may be lacking.,\\nLabel: \\n\\n\"},\n",
       " {'context': \"Premise: Not a pleasant prospect and not one easily avoided---not even by any reform package or proposal that I've seen.,\\nHypothesis: The prospect can be avoided by simply following the very valid proposals received.,\\nLabel: contradiction\\n\\nPremise: um-hum yeah i end up well yeah i mean i do a lot of like even weekender kind of things i go out for just one or two nights uh it's not my favorite thing but i can do it a lot more often so like over at the uh particularly in the uh the fall and spring when the insects haven't come out yet uh where they're already gone uh you know i spend almost every weekend up in the mountains and i guess i live about five hours away from some place to go hiking where i am now,\\nHypothesis: I don't mind camping for a couple nights in the fall and spring.,\\nLabel: entailment\\n\\nPremise: The result was the four Raphael Rooms (Stanze di Raffaello).,\\nHypothesis: The result was 3 Raphael Rooms.,\\nLabel: \\n\\n\",\n",
       "  'query': 'Label if this is entailment or contradiction.\\nPremise: The result was the four Raphael Rooms (Stanze di Raffaello).,\\nHypothesis: The result was 3 Raphael Rooms.,\\nLabel: \\n\\n'},\n",
       " {'context': \"Premise: Nonetheless, based on discussions with several states, the application review process is estimated to take approximately 38 weeks (9-10 months).,\\nHypothesis: The application review process was discussed only with corporations. ,\\nLabel: contradiction\\n\\nPremise: Acidic deposition or acid rain occurs when SO2 and NOx in the atmosphere react with water, oxygen, and oxidants to form acidic compounds.,\\nHypothesis: Water and nitrogen in the atmosphere cause the acid rain.,\\nLabel: contradiction\\n\\nPremise: Pointe Pitre's cathedral, the Basilique Saint-Pierre et Saint-Paul, features unusual metal columns and balconies.,\\nHypothesis: The unusual polystyrene columns and balconies of the Basilique Saint-Pierre et Saint-Paul can be found in Pointe Pitre.,\\nLabel: \\n\\n\",\n",
       "  'query': \"Label if this is entailment or contradiction.\\nPremise: Pointe Pitre's cathedral, the Basilique Saint-Pierre et Saint-Paul, features unusual metal columns and balconies.,\\nHypothesis: The unusual polystyrene columns and balconies of the Basilique Saint-Pierre et Saint-Paul can be found in Pointe Pitre.,\\nLabel: \\n\\n\"},\n",
       " {'context': \"Premise: i would sort of like to uh think about something in the way of uh uh sort of a sporty car but not any not you know a luxury type sporty one but um,\\nHypothesis: I'm thinking about a very functional, ordinary type of car but I wouldn't mind a luxury car either,\\nLabel: contradiction\\n\\nPremise: uh no i didn't,\\nHypothesis: I decided to do it and so I did.,\\nLabel: contradiction\\n\\nPremise: Major tourist shops have forms and details.,\\nHypothesis: The major tourist shops don't have forms.,\\nLabel: \\n\\n\",\n",
       "  'query': \"Label if this is entailment or contradiction.\\nPremise: Major tourist shops have forms and details.,\\nHypothesis: The major tourist shops don't have forms.,\\nLabel: \\n\\n\"},\n",
       " {'context': \"Premise: yeah i'm in North Carolina,\\nHypothesis: I'm in South Carolina.,\\nLabel: contradiction\\n\\nPremise: He has so much experience and, as shown by the last interview, there are a lot of us out there who could benefit from it.,\\nHypothesis: It was obvious from the interview that he was not very experienced and people should not look up to him. ,\\nLabel: contradiction\\n\\nPremise: Good.' Natalia glared.,\\nHypothesis: Natalia smiled.,\\nLabel: \\n\\n\",\n",
       "  'query': \"Label if this is entailment or contradiction.\\nPremise: Good.' Natalia glared.,\\nHypothesis: Natalia smiled.,\\nLabel: \\n\\n\"},\n",
       " {'context': 'Premise: Sophisticated research is required to tease apart the complex interactions between These variables.,\\nHypothesis: The variables are actually quite simple and easy to understand.,\\nLabel: contradiction\\n\\nPremise: What about me?,\\nHypothesis: Me too?,\\nLabel: entailment\\n\\nPremise: they use the the injection thing or whatever it is,\\nHypothesis: They use lethal injection.,\\nLabel: \\n\\n',\n",
       "  'query': 'Label if this is entailment or contradiction.\\nPremise: they use the the injection thing or whatever it is,\\nHypothesis: They use lethal injection.,\\nLabel: \\n\\n'},\n",
       " {'context': 'Premise:  He was here less than two days and already he thought of this town as home, something he wished to protect.,\\nHypothesis: The man left the town after 24 hours.,\\nLabel: contradiction\\n\\nPremise: Since 1917, Grand Central Market (at 317 South Broadway) has provided the city with a daily cornucopia of enticing fresh produce, fish, poultry, meat, and exotic foodstuffs.,\\nHypothesis: Up until 1917 was when the Central Market gave away free food.,\\nLabel: contradiction\\n\\nPremise: When he married in 1901, he and his wife (Olga Knipper of the Moscow Art Theater) went directly from the ceremony to a honeymoon in a sanitarium.,\\nHypothesis: His wife has never went to a sanitarium. ,\\nLabel: \\n\\n',\n",
       "  'query': 'Label if this is entailment or contradiction.\\nPremise: When he married in 1901, he and his wife (Olga Knipper of the Moscow Art Theater) went directly from the ceremony to a honeymoon in a sanitarium.,\\nHypothesis: His wife has never went to a sanitarium. ,\\nLabel: \\n\\n'},\n",
       " {'context': \"Premise: A few schools, including Harvard, New York and Georgetown universities, already have them.,\\nHypothesis: They are already in Harvard, New York and Georgetown universities.,\\nLabel: entailment\\n\\nPremise: In such circumstances, auditors may issue a limited official use report containing such information and distribute the report only to those parties responsible for acting on the auditors' recommendations.,\\nHypothesis: Auditors can issue a limited official use report that has such information.,\\nLabel: entailment\\n\\nPremise: The point isn't that polls are dishonest.,\\nHypothesis: Dishonest polls is not the point being made.  ,\\nLabel: \\n\\n\",\n",
       "  'query': \"Label if this is entailment or contradiction.\\nPremise: The point isn't that polls are dishonest.,\\nHypothesis: Dishonest polls is not the point being made.  ,\\nLabel: \\n\\n\"},\n",
       " {'context': \"Premise: but uh what's that,\\nHypothesis: However, what is that?,\\nLabel: entailment\\n\\nPremise: APHIS rejected the first alternative because it believed scientific evidence permitted importation of beef from Argentina under certain conditions and not permitting such importation would be contrary to trade agreements entered into by the United States.,\\nHypothesis: The trade agreements would be in conjunction with the agreement.,\\nLabel: contradiction\\n\\nPremise: and they're going yes but in general i like to exercise i i like dance a lot so i mean i aerobics is something i'd hate to give up but,\\nHypothesis: I hate exerising.,\\nLabel: \\n\\n\",\n",
       "  'query': \"Label if this is entailment or contradiction.\\nPremise: and they're going yes but in general i like to exercise i i like dance a lot so i mean i aerobics is something i'd hate to give up but,\\nHypothesis: I hate exerising.,\\nLabel: \\n\\n\"},\n",
       " {'context': \"Premise: 119 Cynthia was back from the hospital, and I placed my chair beside her, and told her of Poirot's wish to visit the dispensary. ,\\nHypothesis: Poirot talked to Cynthia himself, asking to visit her at work at the hospital. ,\\nLabel: contradiction\\n\\nPremise: Stop blaming John.,\\nHypothesis: Quit holding John responsible.,\\nLabel: entailment\\n\\nPremise: i think on the local elections it's actually um i think um i think people vote in the larger elections because they feel like well you know the country's real important and you know if i elect if we help elect a president who's going to save us then the then the whole country will be saved but they figure local elections don't mean that much i suspect so people don't really worry about their local mayor or something figuring that you know um and i think wrongly figuring that that well what good is another mayor going to do anyway because our federal taxes are more important right now and you know and stuff like that so people think that that that they don't have um that that it doesn't doesn't matter as much whereas i think it's probably just the opposite is true i think it's probably the case that people could have more effect on a local level,\\nHypothesis: I think more people vote during the presidential elections than local elections.,\\nLabel: \\n\\n\",\n",
       "  'query': \"Label if this is entailment or contradiction.\\nPremise: i think on the local elections it's actually um i think um i think people vote in the larger elections because they feel like well you know the country's real important and you know if i elect if we help elect a president who's going to save us then the then the whole country will be saved but they figure local elections don't mean that much i suspect so people don't really worry about their local mayor or something figuring that you know um and i think wrongly figuring that that well what good is another mayor going to do anyway because our federal taxes are more important right now and you know and stuff like that so people think that that that they don't have um that that it doesn't doesn't matter as much whereas i think it's probably just the opposite is true i think it's probably the case that people could have more effect on a local level,\\nHypothesis: I think more people vote during the presidential elections than local elections.,\\nLabel: \\n\\n\"},\n",
       " {'context': 'Premise: Kashmir remained an unresolved problem of Partition.,\\nHypothesis: The partition problem of Kashmir remained unresolved.  ,\\nLabel: entailment\\n\\nPremise: Given the assumptions and economic drivers in each of the scenarios, the AMIGA model calculates the capital investment, operation and maintenance, and fuel costs necessary to meet consumer demand for electricity.,\\nHypothesis: The AMIGA model finds the capital investment.,\\nLabel: entailment\\n\\nPremise: All the discoveries have been made by Japp, and Japp will take all the credit. ,\\nHypothesis: Japp made no discoveries, and will not be honored.,\\nLabel: \\n\\n',\n",
       "  'query': 'Label if this is entailment or contradiction.\\nPremise: All the discoveries have been made by Japp, and Japp will take all the credit. ,\\nHypothesis: Japp made no discoveries, and will not be honored.,\\nLabel: \\n\\n'},\n",
       " {'context': \"Premise: You outwitted me.,\\nHypothesis: You have never outwitted me.,\\nLabel: contradiction\\n\\nPremise: yeah but that's that's true just about every,\\nHypothesis: That is false.,\\nLabel: contradiction\\n\\nPremise: He was lecherous and strange.,\\nHypothesis: He had a normal attitude.,\\nLabel: \\n\\n\",\n",
       "  'query': 'Label if this is entailment or contradiction.\\nPremise: He was lecherous and strange.,\\nHypothesis: He had a normal attitude.,\\nLabel: \\n\\n'},\n",
       " {'context': 'Premise: For Columns 5 though 8, the only amounts that change in lines 1  and  2, compared to columns 1 through 4, are outbound attributable cost and inbound revenue.,\\nHypothesis: Only the outbound attributable cost and inbound revenue change in lines 1 and 2 in columns 5 through 8.,\\nLabel: entailment\\n\\nPremise: This brought forth a small number of articulate dissensions.,\\nHypothesis: This brought up happy feelings and warmth.,\\nLabel: contradiction\\n\\nPremise: The troopers behind Muller stiffened into wooden soldiers, all expression vanishing from their features until they matched each other in exact anonymity.,\\nHypothesis: Muller was with soldiers.,\\nLabel: \\n\\n',\n",
       "  'query': 'Label if this is entailment or contradiction.\\nPremise: The troopers behind Muller stiffened into wooden soldiers, all expression vanishing from their features until they matched each other in exact anonymity.,\\nHypothesis: Muller was with soldiers.,\\nLabel: \\n\\n'},\n",
       " {'context': 'Premise: Meanwhile, lawyers were at a premium Indians love litigation and it was ideal training for future politicians and politics had been clandestine, because it was so often fatal to express an opinion on the wrong (i.e. , losing) side.,\\nHypothesis: Lawyers were at a premium and it was ideal training for future politicians and politics.,\\nLabel: entailment\\n\\nPremise: In some states, it may be possible to develop and implement statewide initiatives to improve service delivery, increase resources, and enhance the capacity of the system to meet the civil legal needs of all low-income people without altering service areas or historical relationships.,\\nHypothesis: In no states will it be necessary to develop and implement statewide initiatives.,\\nLabel: contradiction\\n\\nPremise: Someone was applauding.,\\nHypothesis: A person applauded.,\\nLabel: \\n\\n',\n",
       "  'query': 'Label if this is entailment or contradiction.\\nPremise: Someone was applauding.,\\nHypothesis: A person applauded.,\\nLabel: \\n\\n'},\n",
       " {'context': \"Premise: my dad's got a new um i guess it's an eighty nine or ninety uh Chrysler something or other it's one those transverse mounted V sixes front wheel drive,\\nHypothesis: My dad has a new eighty nine or ninety Chrysler with a transverse mounted V and front wheel drive.,\\nLabel: entailment\\n\\nPremise: This is a colourful Middle Eastern-Yemenite restaurant (where the downstairs is expensive, and the upstairs is less formal) with an interesting menu of meat and offal.,\\nHypothesis: The restaurant serves Middle Eastern-Yemenite food.,\\nLabel: entailment\\n\\nPremise: Table 7-1 shows a summary of resource demand and its effect on current supply.,\\nHypothesis: The table shows a summary of the resources in demand.,\\nLabel: \\n\\n\",\n",
       "  'query': 'Label if this is entailment or contradiction.\\nPremise: Table 7-1 shows a summary of resource demand and its effect on current supply.,\\nHypothesis: The table shows a summary of the resources in demand.,\\nLabel: \\n\\n'},\n",
       " {'context': \"Premise: Yes, continued Whittington.,\\nHypothesis: Whittington said no.,\\nLabel: contradiction\\n\\nPremise: Unless otherwise noted, hotels take all major credit cards.,\\nHypothesis: Hotels accept credit cards as payment unless otherwise stated.,\\nLabel: entailment\\n\\nPremise: Of course, there is always the chance that the company's management has simply gone mad.,\\nHypothesis: It's possible that the company is not affected at all.,\\nLabel: \\n\\n\",\n",
       "  'query': \"Label if this is entailment or contradiction.\\nPremise: Of course, there is always the chance that the company's management has simply gone mad.,\\nHypothesis: It's possible that the company is not affected at all.,\\nLabel: \\n\\n\"},\n",
       " {'context': 'Premise: This factual record provided an important context for consideration of the legal question of the meaning of the presence requirement.,\\nHypothesis: The record gave no context regarding the legal question. ,\\nLabel: contradiction\\n\\nPremise: The rest of the industry is waiting to see how much control the government demands over recovered keys.,\\nHypothesis: The industry waits for nothing. ,\\nLabel: contradiction\\n\\nPremise: The mosque is unusual in Cairo in that it has no facade it is hidden behind a protective wall with nineteen openings.,\\nHypothesis: The mosque in cairo is protected by walls. ,\\nLabel: \\n\\n',\n",
       "  'query': 'Label if this is entailment or contradiction.\\nPremise: The mosque is unusual in Cairo in that it has no facade it is hidden behind a protective wall with nineteen openings.,\\nHypothesis: The mosque in cairo is protected by walls. ,\\nLabel: \\n\\n'},\n",
       " {'context': \"Premise: Warn't no Apaches, that's for certain.,\\nHypothesis: It wasn't the Apaches, certainly.,\\nLabel: entailment\\n\\nPremise: The Commission prepared a Final Regulatory Flexibility Analysis pursuant to section 604.,\\nHypothesis: The Commission put together a Final Regulatory Flexibility Analysis that went against Section 604.,\\nLabel: contradiction\\n\\nPremise: Kuala Kangsar has long been famous for Malay College, set amid spacious grounds near the center of town, a prestigious and exclusive school for the Malay aristocracy since it was founded by the British in 1904.,\\nHypothesis: Malay College was know for taking in any student regardless of their background.,\\nLabel: \\n\\n\",\n",
       "  'query': 'Label if this is entailment or contradiction.\\nPremise: Kuala Kangsar has long been famous for Malay College, set amid spacious grounds near the center of town, a prestigious and exclusive school for the Malay aristocracy since it was founded by the British in 1904.,\\nHypothesis: Malay College was know for taking in any student regardless of their background.,\\nLabel: \\n\\n'},\n",
       " {'context': \"Premise: right i think we'd have the same type of problem say with Mexico uh Canada on the other hand uh English is one of their national languages they have,\\nHypothesis: We probably have the same issues as Mexico and Canada with regards to the use of the English language.,\\nLabel: entailment\\n\\nPremise: In this paper we examine the hypothesis that the cost model provides reasonable estimates of the unit costs of other posts of industrialized countries.,\\nHypothesis: It isn't possible to estimate costs without going through the budget office of each country.,\\nLabel: contradiction\\n\\nPremise: Should the intervention include the family?,\\nHypothesis: Should the intervention include the girlfriend's family?,\\nLabel: \\n\\n\",\n",
       "  'query': \"Label if this is entailment or contradiction.\\nPremise: Should the intervention include the family?,\\nHypothesis: Should the intervention include the girlfriend's family?,\\nLabel: \\n\\n\"},\n",
       " {'context': 'Premise: um-hum yeah it takes a lot of concentration i mean it was the type of thing i was i was making some little things for Christmas and i also made a little thing for a baby gift and uh i thought oh i can do this while i watch TV wrong,\\nHypothesis: I was making some things for gifts.,\\nLabel: entailment\\n\\nPremise: Jon ran behind a building not yet aflame, the house where Susan had stayed a few days earlier, and prayed to any god who might be listening that they would not find any enemies behind it.,\\nHypothesis: Every building was on fire.,\\nLabel: contradiction\\n\\nPremise: In her soft grey frock, with white ruffles at the wrists falling over her slender hands, she looked very beautiful. ,\\nHypothesis: She looked hideous in her frumpy gown.,\\nLabel: \\n\\n',\n",
       "  'query': 'Label if this is entailment or contradiction.\\nPremise: In her soft grey frock, with white ruffles at the wrists falling over her slender hands, she looked very beautiful. ,\\nHypothesis: She looked hideous in her frumpy gown.,\\nLabel: \\n\\n'},\n",
       " {'context': \"Premise: and uh i have a few health food stores that i send it to i can buy the cookies in a larger quantity than they can so i can get a deal from the uh from the main from the supplier,\\nHypothesis: There are a few health food stores that can buy the cookies in bulk for a better deal.,\\nLabel: entailment\\n\\nPremise: At the sight of Tommy, Julius's eyes seemed as though they would pop out of his head.,\\nHypothesis: Julius turned and walked away as soon as he saw Tommy walk through the door.,\\nLabel: contradiction\\n\\nPremise: Seemed that whoever the killer was, she'd let him into her home voluntarily.,\\nHypothesis: The killer broke a window in order to enter the home.,\\nLabel: \\n\\n\",\n",
       "  'query': \"Label if this is entailment or contradiction.\\nPremise: Seemed that whoever the killer was, she'd let him into her home voluntarily.,\\nHypothesis: The killer broke a window in order to enter the home.,\\nLabel: \\n\\n\"},\n",
       " {'context': \"Premise: and even the painter couldn't give me a good estimate he said well i'll be done this afternoon you know,\\nHypothesis: The painter told me exactly when they were going to finish.,\\nLabel: contradiction\\n\\nPremise: There's a pile of money called the Social Security Trust Fund.,\\nHypothesis: The Social Security Trust Fund is made up of money. ,\\nLabel: entailment\\n\\nPremise: Dave Hanson, to whom nothing is impossible, he said.,\\nHypothesis: He said Dave Hanson.,\\nLabel: \\n\\n\",\n",
       "  'query': 'Label if this is entailment or contradiction.\\nPremise: Dave Hanson, to whom nothing is impossible, he said.,\\nHypothesis: He said Dave Hanson.,\\nLabel: \\n\\n'},\n",
       " {'context': 'Premise: Still, Miyajima manages to be both solemn and lively.,\\nHypothesis: There is no feeling of somberness at Myajima.,\\nLabel: contradiction\\n\\nPremise: expressed about the methodology and results of the procedures to determine the federal pay gap.,\\nHypothesis: The methodology and results were used to determine the federal pay gap.,\\nLabel: entailment\\n\\nPremise: Old salts may want to skipper their charter craft acroseopen sea to the smaller Dutch islands of Sint Eustatius or Saba, or to French Saint-Barthelemy.,\\nHypothesis: If you are looking for a different options you can take your charter ship to one of the less popular islands nearby.,\\nLabel: \\n\\n',\n",
       "  'query': 'Label if this is entailment or contradiction.\\nPremise: Old salts may want to skipper their charter craft acroseopen sea to the smaller Dutch islands of Sint Eustatius or Saba, or to French Saint-Barthelemy.,\\nHypothesis: If you are looking for a different options you can take your charter ship to one of the less popular islands nearby.,\\nLabel: \\n\\n'},\n",
       " {'context': \"Premise: Tomb 57, that of Khaemhat, was decorated with statues of himself and his family very rare for tombs of his class.,\\nHypothesis: The tomb was decorated with statues.,\\nLabel: entailment\\n\\nPremise: Chambers developed increasing reservations in his later years about the direction the American right was taking, distancing himself first from Joe McCarthy, then from Richard Nixon, and even from William Buckley Jr.'s National Review . But Chambers' importance lies, finally, not in his politics but in his romantic penchant for the extremes of the psychic and political undergrounds.,\\nHypothesis: Chambers built a wall between himself and McCarthy and Nixon.,\\nLabel: entailment\\n\\nPremise: Thank you. Tuppence felt a terrific rise in her spirits.,\\nHypothesis: Tupperence felt better after this event.,\\nLabel: \\n\\n\",\n",
       "  'query': 'Label if this is entailment or contradiction.\\nPremise: Thank you. Tuppence felt a terrific rise in her spirits.,\\nHypothesis: Tupperence felt better after this event.,\\nLabel: \\n\\n'},\n",
       " {'context': \"Premise: The place was a living tomb… .,\\nHypothesis: It was no more than a living tomb.,\\nLabel: entailment\\n\\nPremise: He hired a room, and I hired one too.,\\nHypothesis: He hired a room, but I didn't have enough money for one myself.,\\nLabel: contradiction\\n\\nPremise: The dramatically rising cliff of black basalt stone made the castle impregnable to all but the most wily commander.,\\nHypothesis: The castle was secure due to its proximity to a cliff.,\\nLabel: \\n\\n\",\n",
       "  'query': 'Label if this is entailment or contradiction.\\nPremise: The dramatically rising cliff of black basalt stone made the castle impregnable to all but the most wily commander.,\\nHypothesis: The castle was secure due to its proximity to a cliff.,\\nLabel: \\n\\n'}]"
      ]
     },
     "execution_count": 9,
     "metadata": {},
     "output_type": "execute_result"
    }
   ],
   "source": [
    "train_data_strings"
   ]
  },
  {
   "cell_type": "code",
   "execution_count": 10,
   "metadata": {},
   "outputs": [],
   "source": [
    "# Assuming `losses` is the list of epoch losses returned from the `train` function\n",
    "def plot_losses(losses):\n",
    "    plt.figure(figsize=(10, 5))\n",
    "    plt.plot(losses, marker='o', linestyle='-', color='b')\n",
    "    plt.title('Training Loss Per Epoch')\n",
    "    plt.xlabel('Epoch')\n",
    "    plt.ylabel('Average Loss')\n",
    "    plt.grid(True)\n",
    "    plt.show()"
   ]
  },
  {
   "cell_type": "code",
   "execution_count": 11,
   "metadata": {},
   "outputs": [
    {
     "name": "stdout",
     "output_type": "stream",
     "text": [
      "Epoch 1, Total Loss: 0.9191097258590162\n",
      "Epoch 2, Total Loss: 0.46913294758026797\n",
      "Total loss : 1.407398842740804\n"
     ]
    },
    {
     "data": {
      "image/png": "[encoded data removed]",
      "text/plain": [
       "<Figure size 1000x500 with 1 Axes>"
      ]
     },
     "metadata": {},
     "output_type": "display_data"
    }
   ],
   "source": [
    "def train(data, epochs=2, batch_size=16, device='cpu'):\n",
    "    student_model.to(device)\n",
    "    teacher_model.to(device)\n",
    "    \n",
    "    student_model.train()\n",
    "    optimizer = torch.optim.AdamW(student_model.parameters(), lr=0.001)\n",
    "    epoch_losses = []\n",
    "\n",
    "\n",
    "    for epoch in range(epochs):\n",
    "        total_loss = 0\n",
    "        num_batches = len(data) // batch_size \n",
    "        \n",
    "        for i in range(num_batches):\n",
    "            batch_loss = 0\n",
    "            for j in range(batch_size):\n",
    "                index = i * batch_size + j\n",
    "                \n",
    "                teacher_inputs = data[index]['context'].to(device)\n",
    "                student_inputs = data[index]['query'].to(device)\n",
    "                                \n",
    "                teacher_outputs = teacher_model.generate(**teacher_inputs, max_length=teacher_inputs['input_ids'].shape[-1] + 1, output_scores=True, return_dict_in_generate=True)\n",
    "                teacher_probs = torch.nn.functional.softmax(teacher_outputs.scores[0], dim=-1)\n",
    "                \n",
    "                student_logits = student_model(**student_inputs).logits\n",
    "                student_probs = torch.nn.functional.softmax(student_logits[:, -1, :], dim=-1)\n",
    "                \n",
    "                kl_divergence = torch.nn.functional.kl_div(student_probs.log(), teacher_probs, reduction='batchmean')\n",
    "                \n",
    "                optimizer.zero_grad()\n",
    "                kl_divergence.backward()\n",
    "                optimizer.step()\n",
    "\n",
    "                batch_loss += kl_divergence.item()\n",
    "\n",
    "            # Average loss for the batch\n",
    "            batch_loss /= batch_size\n",
    "            total_loss += batch_loss\n",
    "            # print(f\"Epoch {epoch + 1}, Batch {i + 1}, Average Loss: {batch_loss}\")\n",
    "\n",
    "\n",
    "        # Average loss for the epoch\n",
    "        epoch_loss = total_loss / num_batches\n",
    "        epoch_losses.append(epoch_loss)\n",
    "\n",
    "        print(f\"Epoch {epoch + 1}, Total Loss: {epoch_loss}\")\n",
    "        \n",
    "    print(f\"Total loss : {total_loss/epochs}\")\n",
    "    plot_losses(epoch_losses)\n",
    "    # torch.save(student_model, './models/student.pth')\n",
    "\n",
    "\n",
    "train(train_data, device=device)\n"
   ]
  },
  {
   "cell_type": "code",
   "execution_count": 9,
   "metadata": {},
   "outputs": [],
   "source": [
    "def predict(model, source, target=None, device='cpu'):\n",
    "    predict = []\n",
    "    for token in source:\n",
    "        output = model.generate(**token, max_length=token['input_ids'].shape[-1] + 1).to(device)\n",
    "        decoded_output = tokenizer.decode(output[0], skip_special_tokens=True)\n",
    "        predicted_label = decoded_output.split(\"Label:\")[-1].strip().split('.')[0].strip()\n",
    "        predict.append(predicted_label)\n",
    "        \n",
    "    return predict\n",
    "\n",
    "student_prompt_token = create_batch_token(data_set_used, datasets,num_shots=1,tokenizer=tokenizer, device=device,split= 'validation_matched')\n",
    "predict = predict(student_model, student_prompt_token, device=device)  \n"
   ]
  },
  {
   "cell_type": "code",
   "execution_count": 10,
   "metadata": {},
   "outputs": [
    {
     "data": {
      "text/plain": [
       "['',\n",
       " '',\n",
       " '',\n",
       " '',\n",
       " '',\n",
       " '',\n",
       " '',\n",
       " '',\n",
       " '',\n",
       " '',\n",
       " '',\n",
       " '',\n",
       " '',\n",
       " '',\n",
       " '',\n",
       " '',\n",
       " '',\n",
       " '',\n",
       " '',\n",
       " '',\n",
       " '',\n",
       " '',\n",
       " '',\n",
       " '',\n",
       " '',\n",
       " '',\n",
       " '',\n",
       " '',\n",
       " '',\n",
       " '',\n",
       " '',\n",
       " '',\n",
       " '',\n",
       " '',\n",
       " '',\n",
       " '',\n",
       " '',\n",
       " '',\n",
       " '',\n",
       " '',\n",
       " '',\n",
       " '',\n",
       " '',\n",
       " '',\n",
       " '',\n",
       " '',\n",
       " '',\n",
       " '',\n",
       " '',\n",
       " '',\n",
       " '',\n",
       " '',\n",
       " '',\n",
       " '',\n",
       " '',\n",
       " '',\n",
       " '',\n",
       " '',\n",
       " '',\n",
       " '',\n",
       " '',\n",
       " '',\n",
       " '',\n",
       " '',\n",
       " '',\n",
       " '',\n",
       " '',\n",
       " '',\n",
       " '',\n",
       " '',\n",
       " 'Prem',\n",
       " '',\n",
       " '',\n",
       " '',\n",
       " '',\n",
       " '',\n",
       " '',\n",
       " '',\n",
       " '',\n",
       " '',\n",
       " '',\n",
       " '',\n",
       " '',\n",
       " '',\n",
       " '',\n",
       " '',\n",
       " '',\n",
       " '',\n",
       " '',\n",
       " '',\n",
       " '',\n",
       " '',\n",
       " '',\n",
       " '',\n",
       " '',\n",
       " '',\n",
       " '',\n",
       " '',\n",
       " '',\n",
       " '',\n",
       " '',\n",
       " '',\n",
       " '',\n",
       " '',\n",
       " '',\n",
       " '',\n",
       " '',\n",
       " '',\n",
       " '',\n",
       " '',\n",
       " '',\n",
       " '',\n",
       " '',\n",
       " '',\n",
       " '',\n",
       " '',\n",
       " '',\n",
       " '',\n",
       " '',\n",
       " '',\n",
       " '',\n",
       " '',\n",
       " '',\n",
       " '',\n",
       " '',\n",
       " '',\n",
       " '',\n",
       " '',\n",
       " '',\n",
       " '',\n",
       " '',\n",
       " '',\n",
       " '',\n",
       " '',\n",
       " '',\n",
       " '',\n",
       " '',\n",
       " '',\n",
       " '',\n",
       " '',\n",
       " '',\n",
       " '',\n",
       " '',\n",
       " '',\n",
       " '',\n",
       " '',\n",
       " '',\n",
       " 'Hyp',\n",
       " '',\n",
       " '',\n",
       " '',\n",
       " '',\n",
       " '',\n",
       " '',\n",
       " '',\n",
       " '',\n",
       " '',\n",
       " '',\n",
       " '',\n",
       " '',\n",
       " '',\n",
       " '',\n",
       " '',\n",
       " '',\n",
       " '',\n",
       " '',\n",
       " '',\n",
       " '',\n",
       " '',\n",
       " '',\n",
       " '',\n",
       " '',\n",
       " '',\n",
       " '',\n",
       " '',\n",
       " '',\n",
       " '',\n",
       " '',\n",
       " '',\n",
       " '',\n",
       " '',\n",
       " '',\n",
       " '',\n",
       " '',\n",
       " '',\n",
       " '',\n",
       " '',\n",
       " '',\n",
       " '',\n",
       " '',\n",
       " '',\n",
       " '',\n",
       " '',\n",
       " '',\n",
       " '',\n",
       " '',\n",
       " '',\n",
       " '',\n",
       " '',\n",
       " '',\n",
       " '',\n",
       " '',\n",
       " '',\n",
       " '',\n",
       " '',\n",
       " '',\n",
       " '',\n",
       " '',\n",
       " '',\n",
       " '',\n",
       " '',\n",
       " '',\n",
       " '',\n",
       " '',\n",
       " '',\n",
       " '',\n",
       " '',\n",
       " '',\n",
       " '',\n",
       " '',\n",
       " '',\n",
       " '',\n",
       " '',\n",
       " '',\n",
       " '',\n",
       " '',\n",
       " '',\n",
       " '',\n",
       " '',\n",
       " '',\n",
       " '',\n",
       " '',\n",
       " '',\n",
       " '',\n",
       " '',\n",
       " '',\n",
       " '',\n",
       " '',\n",
       " '',\n",
       " '',\n",
       " '',\n",
       " '',\n",
       " '',\n",
       " '',\n",
       " '',\n",
       " '',\n",
       " '',\n",
       " '',\n",
       " '',\n",
       " '',\n",
       " '',\n",
       " '',\n",
       " '',\n",
       " '',\n",
       " '',\n",
       " '',\n",
       " '',\n",
       " '',\n",
       " '',\n",
       " '',\n",
       " '',\n",
       " '',\n",
       " '',\n",
       " '',\n",
       " '',\n",
       " '',\n",
       " '',\n",
       " '',\n",
       " '',\n",
       " '',\n",
       " '',\n",
       " '',\n",
       " '',\n",
       " '',\n",
       " '',\n",
       " '',\n",
       " '',\n",
       " '',\n",
       " '',\n",
       " '',\n",
       " '',\n",
       " '',\n",
       " '',\n",
       " '',\n",
       " '',\n",
       " '',\n",
       " '',\n",
       " '',\n",
       " '',\n",
       " '',\n",
       " '',\n",
       " '',\n",
       " '',\n",
       " '',\n",
       " '',\n",
       " '',\n",
       " '',\n",
       " '',\n",
       " '',\n",
       " '']"
      ]
     },
     "execution_count": 10,
     "metadata": {},
     "output_type": "execute_result"
    }
   ],
   "source": [
    "predict"
   ]
  }
 ],
 "metadata": {
  "kernelspec": {
   "display_name": "dlproject-3.12.2",
   "language": "python",
   "name": "dlproject-3.12.2"
  },
  "language_info": {
   "codemirror_mode": {
    "name": "ipython",
    "version": 3
   },
   "file_extension": ".py",
   "mimetype": "text/x-python",
   "name": "python",
   "nbconvert_exporter": "python",
   "pygments_lexer": "ipython3",
   "version": "3.12.2"
  }
 },
 "nbformat": 4,
 "nbformat_minor": 2
}
